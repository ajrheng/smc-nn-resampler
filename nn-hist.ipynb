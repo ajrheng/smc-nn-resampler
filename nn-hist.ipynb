{
 "cells": [
  {
   "cell_type": "code",
   "execution_count": 1,
   "metadata": {},
   "outputs": [
    {
     "name": "stdout",
     "output_type": "stream",
     "text": [
      "cuda:0\n"
     ]
    }
   ],
   "source": [
    "import torch\n",
    "import math\n",
    "import torch.nn as nn\n",
    "import torch.nn.functional as F\n",
    "import numpy as np\n",
    "import torch.optim as optim\n",
    "import matplotlib.pyplot as plt\n",
    "import scipy.stats\n",
    "from tqdm import tqdm\n",
    "\n",
    "seed = 10000\n",
    "torch.manual_seed(seed)\n",
    "np.random.seed(seed)\n",
    "\n",
    "generate_data = False\n",
    "load = True\n",
    "\n",
    "device = torch.device(\"cuda:0\" if torch.cuda.is_available() else \"cpu\")\n",
    "print(device)"
   ]
  },
  {
   "cell_type": "code",
   "execution_count": 2,
   "metadata": {},
   "outputs": [],
   "source": [
    "class Net(nn.Module):\n",
    "    \n",
    "    def __init__(self, n_input, n_output):\n",
    "        super(Net, self).__init__()\n",
    "        \n",
    "        # encoder\n",
    "        self.enc1 = nn.Linear(n_input,50)\n",
    "        self.enc2 = nn.Linear(50,25)\n",
    "        self.enc3 = nn.Linear(25,10)\n",
    "        \n",
    "        # decoder\n",
    "        self.dec1 = nn.Linear(10, 25)\n",
    "        self.dec2 = nn.Linear(25, 50)\n",
    "        self.dec3 = nn.Linear(50, n_output)\n",
    "        \n",
    "        #bn\n",
    "        self.bn_enc1 = nn.BatchNorm1d(50)\n",
    "        self.bn_enc2 = nn.BatchNorm1d(25)\n",
    "        self.bn_enc3 = nn.BatchNorm1d(10)\n",
    "        self.bn_dec1 = nn.BatchNorm1d(25)\n",
    "        self.bn_dec2 = nn.BatchNorm1d(50)\n",
    "\n",
    "\n",
    "    def forward(self, x):\n",
    "        x = self.bn_enc1(torch.relu(self.enc1(x)))\n",
    "        x = self.bn_enc2(torch.relu(self.enc2(x)))\n",
    "        x = self.bn_enc3(torch.relu(self.enc3(x)))\n",
    "        x = self.bn_dec1(torch.relu(self.dec1(x)))\n",
    "        x = self.bn_dec2(torch.relu(self.dec2(x)))\n",
    "        x = F.softmax(self.dec3(x), dim=1)\n",
    "        return x"
   ]
  },
  {
   "cell_type": "code",
   "execution_count": 3,
   "metadata": {},
   "outputs": [],
   "source": [
    "def num_samples_per_mode(num_modes, total_points):\n",
    "    \"\"\"\n",
    "    Returns the number of points to sample for each number of mode.\n",
    "    \n",
    "    Args:\n",
    "        num_modes: number of different modes in the multimodal distribution\n",
    "        total_points: total number of points to draw for all modes\n",
    "        \n",
    "    Returns:\n",
    "        array with the number of samples per mode. the elements sum to total_points\n",
    "    \"\"\"\n",
    "    prob_per_mode = np.random.dirichlet(np.ones(num_modes))\n",
    "    num_samples = []\n",
    "    \n",
    "    for i in range(num_modes):\n",
    "        \n",
    "        if i == num_modes - 1: # if the last mode:\n",
    "            num = total_points - sum(num_samples)\n",
    "        else:\n",
    "            num = int(prob_per_mode[i] * total_points)\n",
    "            \n",
    "        num_samples.append(num)\n",
    "        \n",
    "    return np.array(num_samples)"
   ]
  },
  {
   "cell_type": "code",
   "execution_count": 4,
   "metadata": {},
   "outputs": [],
   "source": [
    "def draw_binned_gaussian(num_data, num_samples, num_bins, num_modes):\n",
    "    \"\"\"\n",
    "    Returns (binned_data, binned_edges)\n",
    "    binned_data contains the binned training data, has dimensions [num_data, num_bins]\n",
    "    binned_edges contains the binned edges, has dimensions [num_data, num_bins+1]\n",
    "    \n",
    "    Args:\n",
    "        num_data: number of data points (full batch size)\n",
    "        num_samples: number of samples/particles to draw\n",
    "        num_bins: number of bins\n",
    "        num_modes: number of modes you want in the data. each data\n",
    "                   point will have a random number of modes from 1 to num_modes\n",
    "    \"\"\"\n",
    "    \n",
    "    binned_data = np.empty((0, num_bins), float)\n",
    "    edges = np.empty((0, num_bins+1), float)\n",
    "    \n",
    "    for i in tqdm(range(num_data)):\n",
    "        num_mode = np.random.randint(low=1, high=num_modes)\n",
    "        num_samples_list = num_samples_per_mode(num_mode, num_samples)\n",
    "        \n",
    "        points = np.empty(shape=0)\n",
    "        \n",
    "        for n_samples in num_samples_list:\n",
    "            mean = np.random.uniform(-10,10)\n",
    "            std = np.random.uniform(1,1.5)\n",
    "            points_ = np.random.normal(loc=mean, scale=std, size=n_samples)\n",
    "            points = np.append(points, points_)\n",
    "            \n",
    "        ## normalize\n",
    "        points =  (points - np.mean(points))/np.std(points)\n",
    "        bins_, edges_ = np.histogram(points, bins=num_bins)\n",
    "        bins_ = bins_/num_samples\n",
    "        \n",
    "        binned_data = np.append(binned_data, [bins_], axis=0)\n",
    "        edges = np.append(edges, [edges_], axis=0)\n",
    "        \n",
    "    return binned_data, edges\n",
    "        "
   ]
  },
  {
   "cell_type": "code",
   "execution_count": 5,
   "metadata": {
    "scrolled": true
   },
   "outputs": [],
   "source": [
    "train_num_data = 50000\n",
    "test_num_data = 5000\n",
    "num_samples = 10000\n",
    "num_bins = 100\n",
    "num_modes = 10\n",
    "\n",
    "if generate_data is True:\n",
    "    train_data, train_edges = draw_binned_gaussian(train_num_data, num_samples, num_bins, num_modes)\n",
    "    test_data, test_edges = draw_binned_gaussian(test_num_data, num_samples, num_bins, num_modes)\n",
    "    np.save(\"train_data.npy\", train_data)\n",
    "    np.save(\"train_edges.npy\", train_edges)\n",
    "    np.save(\"test_data.npy\", test_data)\n",
    "    np.save(\"test_edges.npy\", test_edges)\n",
    "else:\n",
    "    train_data = np.load(\"train_data.npy\")\n",
    "    train_edges = np.load(\"train_edges.npy\")\n",
    "    test_data = np.load(\"test_data.npy\")\n",
    "    test_edges = np.load(\"test_edges.npy\")"
   ]
  },
  {
   "cell_type": "code",
   "execution_count": 6,
   "metadata": {},
   "outputs": [],
   "source": [
    "train_data = train_data.astype(np.float32)\n",
    "train_data = torch.from_numpy(train_data)\n",
    "train_data = train_data.to(device)"
   ]
  },
  {
   "cell_type": "code",
   "execution_count": 7,
   "metadata": {},
   "outputs": [],
   "source": [
    "test_data = test_data.astype(np.float32)\n",
    "test_data = torch.from_numpy(test_data)\n",
    "test_data = test_data.to(device)"
   ]
  },
  {
   "cell_type": "code",
   "execution_count": 8,
   "metadata": {},
   "outputs": [
    {
     "data": {
      "text/plain": [
       "Net(\n",
       "  (enc1): Linear(in_features=100, out_features=50, bias=True)\n",
       "  (enc2): Linear(in_features=50, out_features=25, bias=True)\n",
       "  (enc3): Linear(in_features=25, out_features=10, bias=True)\n",
       "  (dec1): Linear(in_features=10, out_features=25, bias=True)\n",
       "  (dec2): Linear(in_features=25, out_features=50, bias=True)\n",
       "  (dec3): Linear(in_features=50, out_features=100, bias=True)\n",
       "  (bn_enc1): BatchNorm1d(50, eps=1e-05, momentum=0.1, affine=True, track_running_stats=True)\n",
       "  (bn_enc2): BatchNorm1d(25, eps=1e-05, momentum=0.1, affine=True, track_running_stats=True)\n",
       "  (bn_enc3): BatchNorm1d(10, eps=1e-05, momentum=0.1, affine=True, track_running_stats=True)\n",
       "  (bn_dec1): BatchNorm1d(25, eps=1e-05, momentum=0.1, affine=True, track_running_stats=True)\n",
       "  (bn_dec2): BatchNorm1d(50, eps=1e-05, momentum=0.1, affine=True, track_running_stats=True)\n",
       ")"
      ]
     },
     "execution_count": 8,
     "metadata": {},
     "output_type": "execute_result"
    }
   ],
   "source": [
    "epochs = 30000\n",
    "net = Net(100,100)\n",
    "net = net.to(device)\n",
    "optimizer = optim.Adam(net.parameters(), lr=0.001)\n",
    "loss_func = nn.KLDivLoss()\n",
    "net.train()"
   ]
  },
  {
   "cell_type": "code",
   "execution_count": 9,
   "metadata": {},
   "outputs": [],
   "source": [
    "phase_est_data = np.load(\"train_data.npy\")\n",
    "phase_est_data = phase_est_data.astype(np.float32)\n",
    "phase_est_data = torch.from_numpy(phase_est_data)\n",
    "phase_est_data = phase_est_data.to(device)\n",
    "\n",
    "phase_est_edges = np.load(\"train_edges.npy\")"
   ]
  },
  {
   "cell_type": "code",
   "execution_count": 10,
   "metadata": {
    "scrolled": false
   },
   "outputs": [
    {
     "data": {
      "text/plain": [
       "Net(\n",
       "  (enc1): Linear(in_features=100, out_features=50, bias=True)\n",
       "  (enc2): Linear(in_features=50, out_features=25, bias=True)\n",
       "  (enc3): Linear(in_features=25, out_features=10, bias=True)\n",
       "  (dec1): Linear(in_features=10, out_features=25, bias=True)\n",
       "  (dec2): Linear(in_features=25, out_features=50, bias=True)\n",
       "  (dec3): Linear(in_features=50, out_features=100, bias=True)\n",
       "  (bn_enc1): BatchNorm1d(50, eps=1e-05, momentum=0.1, affine=True, track_running_stats=True)\n",
       "  (bn_enc2): BatchNorm1d(25, eps=1e-05, momentum=0.1, affine=True, track_running_stats=True)\n",
       "  (bn_enc3): BatchNorm1d(10, eps=1e-05, momentum=0.1, affine=True, track_running_stats=True)\n",
       "  (bn_dec1): BatchNorm1d(25, eps=1e-05, momentum=0.1, affine=True, track_running_stats=True)\n",
       "  (bn_dec2): BatchNorm1d(50, eps=1e-05, momentum=0.1, affine=True, track_running_stats=True)\n",
       ")"
      ]
     },
     "execution_count": 10,
     "metadata": {},
     "output_type": "execute_result"
    }
   ],
   "source": [
    "if load is False:\n",
    "    for e in range(epochs):\n",
    "        prediction = net(train_data)\n",
    "        loss = loss_func(torch.log(prediction), train_data)\n",
    "        train_loss = loss.item()\n",
    "        optimizer.zero_grad()\n",
    "        loss.backward()\n",
    "        optimizer.step()\n",
    "\n",
    "        if (e+1)%250 == 0:\n",
    "            net.eval()\n",
    "            test_pred = net(test_data)\n",
    "            loss = loss_func(torch.log(test_pred), test_data)\n",
    "            test_loss = loss.item()\n",
    "\n",
    "            phase_est_pred = net(phase_est_data)\n",
    "            loss = loss_func(torch.log(phase_est_pred), phase_est_data)\n",
    "            phase_est_loss = loss.item()\n",
    "\n",
    "            print(\"Epoch: {:d}, train loss: {:f}, test loss: {:f}, phase est loss: {:f}\"\n",
    "                  .format(e, train_loss, test_loss, phase_est_loss))\n",
    "            net.train()\n",
    "\n",
    "    torch.save(net.state_dict(), \"net_bn_aft_relu_dropout.model\")\n",
    "else:\n",
    "    net.load_state_dict(torch.load(\"net_bn_aft_relu.model\"))\n",
    "\n",
    "net.eval()"
   ]
  },
  {
   "cell_type": "code",
   "execution_count": 16,
   "metadata": {
    "scrolled": true
   },
   "outputs": [
    {
     "ename": "IndexError",
     "evalue": "index 4475 is out of bounds for dimension 0 with size 1",
     "output_type": "error",
     "traceback": [
      "\u001b[1;31m---------------------------------------------------------------------------\u001b[0m",
      "\u001b[1;31mIndexError\u001b[0m                                Traceback (most recent call last)",
      "\u001b[1;32m<ipython-input-16-6eba39833492>\u001b[0m in \u001b[0;36m<module>\u001b[1;34m\u001b[0m\n\u001b[0;32m      8\u001b[0m \u001b[1;33m\u001b[0m\u001b[0m\n\u001b[0;32m      9\u001b[0m     \u001b[0mplt\u001b[0m\u001b[1;33m.\u001b[0m\u001b[0mbar\u001b[0m\u001b[1;33m(\u001b[0m\u001b[0mtest_edges_\u001b[0m\u001b[1;33m,\u001b[0m \u001b[0mtest_data\u001b[0m\u001b[1;33m[\u001b[0m\u001b[0mi\u001b[0m\u001b[1;33m]\u001b[0m\u001b[1;33m.\u001b[0m\u001b[0mcpu\u001b[0m\u001b[1;33m(\u001b[0m\u001b[1;33m)\u001b[0m\u001b[1;33m,\u001b[0m \u001b[0malign\u001b[0m\u001b[1;33m=\u001b[0m\u001b[1;34m'edge'\u001b[0m\u001b[1;33m,\u001b[0m \u001b[0mwidth\u001b[0m \u001b[1;33m=\u001b[0m \u001b[0medge_width\u001b[0m\u001b[1;33m)\u001b[0m\u001b[1;33m\u001b[0m\u001b[1;33m\u001b[0m\u001b[0m\n\u001b[1;32m---> 10\u001b[1;33m     \u001b[0mplt\u001b[0m\u001b[1;33m.\u001b[0m\u001b[0mbar\u001b[0m\u001b[1;33m(\u001b[0m\u001b[0mtest_edges_\u001b[0m\u001b[1;33m,\u001b[0m \u001b[0mtest_pred\u001b[0m\u001b[1;33m[\u001b[0m\u001b[0mi\u001b[0m\u001b[1;33m]\u001b[0m\u001b[1;33m.\u001b[0m\u001b[0mdetach\u001b[0m\u001b[1;33m(\u001b[0m\u001b[1;33m)\u001b[0m\u001b[1;33m.\u001b[0m\u001b[0mcpu\u001b[0m\u001b[1;33m(\u001b[0m\u001b[1;33m)\u001b[0m\u001b[1;33m,\u001b[0m \u001b[0malign\u001b[0m\u001b[1;33m=\u001b[0m\u001b[1;34m'edge'\u001b[0m\u001b[1;33m,\u001b[0m \u001b[0mwidth\u001b[0m \u001b[1;33m=\u001b[0m \u001b[0medge_width\u001b[0m\u001b[1;33m,\u001b[0m \u001b[0malpha\u001b[0m\u001b[1;33m=\u001b[0m\u001b[1;36m0.7\u001b[0m\u001b[1;33m)\u001b[0m\u001b[1;33m\u001b[0m\u001b[1;33m\u001b[0m\u001b[0m\n\u001b[0m\u001b[0;32m     11\u001b[0m     \u001b[0mplt\u001b[0m\u001b[1;33m.\u001b[0m\u001b[0mshow\u001b[0m\u001b[1;33m(\u001b[0m\u001b[1;33m)\u001b[0m\u001b[1;33m\u001b[0m\u001b[1;33m\u001b[0m\u001b[0m\n\u001b[0;32m     12\u001b[0m \u001b[1;33m\u001b[0m\u001b[0m\n",
      "\u001b[1;31mIndexError\u001b[0m: index 4475 is out of bounds for dimension 0 with size 1"
     ]
    },
    {
     "data": {
      "image/png": "[encoded data removed]",
      "text/plain": [
       "<Figure size 432x288 with 1 Axes>"
      ]
     },
     "metadata": {
      "needs_background": "light"
     },
     "output_type": "display_data"
    }
   ],
   "source": [
    "test_pred = net(test_data)\n",
    "idx_to_plot = np.random.choice(test_num_data, size=100)\n",
    "\n",
    "for i in idx_to_plot:\n",
    "    \n",
    "    test_edges_ = test_edges[i][:-1]\n",
    "    edge_width = test_edges_[1] - test_edges_[0]\n",
    "\n",
    "    plt.bar(test_edges_, test_data[i].cpu(), align='edge', width = edge_width)\n",
    "    plt.bar(test_edges_, test_pred[i].detach().cpu(), align='edge', width = edge_width, alpha=0.7)\n",
    "    plt.show() \n",
    "    "
   ]
  },
  {
   "cell_type": "code",
   "execution_count": null,
   "metadata": {
    "scrolled": true
   },
   "outputs": [],
   "source": [
    "phase_est_pred = net(phase_est_data)\n",
    "idx_to_plot = np.random.choice(len(phase_est_data), size=100)\n",
    "\n",
    "for i in idx_to_plot:\n",
    "    \n",
    "    phase_est_edges_ = phase_est_edges[i][:-1]\n",
    "    edge_width = phase_est_edges_[1] - phase_est_edges_[0]\n",
    "\n",
    "    plt.bar(phase_est_edges_, phase_est_data[i].cpu(), align='edge', width = edge_width)\n",
    "    plt.bar(phase_est_edges_, phase_est_pred[i].detach().cpu(), align='edge', width = edge_width, alpha=0.7)\n",
    "    plt.show() "
   ]
  },
  {
   "cell_type": "code",
   "execution_count": null,
   "metadata": {},
   "outputs": [],
   "source": []
  }
 ],
 "metadata": {
  "kernelspec": {
   "display_name": "Python 3",
   "language": "python",
   "name": "python3"
  },
  "language_info": {
   "codemirror_mode": {
    "name": "ipython",
    "version": 3
   },
   "file_extension": ".py",
   "mimetype": "text/x-python",
   "name": "python",
   "nbconvert_exporter": "python",
   "pygments_lexer": "ipython3",
   "version": "3.8.3"
  }
 },
 "nbformat": 4,
 "nbformat_minor": 4
}
