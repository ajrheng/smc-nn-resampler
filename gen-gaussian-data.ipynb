{
 "cells": [
  {
   "cell_type": "code",
   "execution_count": 1,
   "metadata": {},
   "outputs": [],
   "source": [
    "import numpy as np"
   ]
  },
  {
   "cell_type": "code",
   "execution_count": 2,
   "metadata": {},
   "outputs": [],
   "source": [
    "def num_samples_per_mode(num_modes, total_points):\n",
    "    \"\"\"\n",
    "    Returns the number of points to sample for each number of mode.\n",
    "    \n",
    "    Args:\n",
    "        num_modes: number of different modes in the multimodal distribution\n",
    "        total_points: total number of points to draw for all modes\n",
    "        \n",
    "    Returns:\n",
    "        array with the number of samples per mode. the elements sum to total_points\n",
    "    \"\"\"\n",
    "    prob_per_mode = np.random.dirichlet(np.ones(num_modes))\n",
    "    num_samples = []\n",
    "    \n",
    "    for i in range(num_modes):\n",
    "        \n",
    "        if i == num_modes - 1: # if the last mode:\n",
    "            num = total_points - sum(num_samples)\n",
    "        else:\n",
    "            num = int(prob_per_mode[i] * total_points)\n",
    "            \n",
    "        num_samples.append(num)\n",
    "        \n",
    "    return np.array(num_samples)"
   ]
  },
  {
   "cell_type": "code",
   "execution_count": null,
   "metadata": {},
   "outputs": [],
   "source": [
    "def draw_binned_gaussian(num_data, num_samples, num_bins, num_modes):\n",
    "    \"\"\"\n",
    "    Returns (binned_data, binned_edges)\n",
    "    binned_data contains the binned training data, has dimensions [num_data, num_bins]\n",
    "    binned_edges contains the binned edges, has dimensions [num_data, num_bins+1]\n",
    "    \n",
    "    Args:\n",
    "        num_data: number of data points (full batch size)\n",
    "        num_samples: number of samples/particles to draw\n",
    "        num_bins: number of bins\n",
    "        num_modes: number of modes you want in the data. each data\n",
    "                   point will have a random number of modes from 1 to num_modes\n",
    "    \"\"\"\n",
    "    \n",
    "    binned_data = []\n",
    "    edges = []\n",
    "    \n",
    "    for i in tqdm(range(num_data)):\n",
    "        num_mode = np.random.randint(low=1, high=num_modes)\n",
    "        num_samples_list = num_samples_per_mode(num_mode, num_samples)\n",
    "        \n",
    "        points = np.empty(shape=0)\n",
    "        \n",
    "        for n_samples in num_samples_list:\n",
    "            mean = np.random.uniform(-10,10)\n",
    "            std = np.random.uniform(0.1,1)\n",
    "            points_ = np.random.normal(loc=mean, scale=std, size=n_samples)\n",
    "            points = np.append(points, points_)\n",
    "            \n",
    "        bins_, edges_ = np.histogram(points, bins=num_bins)\n",
    "        bins_ = bins_/num_samples\n",
    "        edges_ = (edges_[:-1] + edges_[1:])/2\n",
    "    \n",
    "        binned_data.append(bins_)\n",
    "        edges.append(edges_)\n",
    "        \n",
    "    return np.array(binned_data), np.array(edges)\n",
    "        "
   ]
  },
  {
   "cell_type": "code",
   "execution_count": null,
   "metadata": {},
   "outputs": [],
   "source": [
    "train_num_data = 50000\n",
    "test_num_data = 5000\n",
    "num_samples = 10000\n",
    "num_bins = 100\n",
    "num_modes = 20\n",
    "\n",
    "train_data, train_edges = draw_binned_gaussian(train_num_data, num_samples, num_bins, num_modes)\n",
    "test_data, test_edges = draw_binned_gaussian(test_num_data, num_samples, num_bins, num_modes)\n",
    "np.save(\"data/train_data.npy\", train_data)\n",
    "np.save(\"data/train_edges.npy\", train_edges)\n",
    "np.save(\"data/test_data.npy\", test_data)\n",
    "np.save(\"data/test_edges.npy\", test_edges)"
   ]
  }
 ],
 "metadata": {
  "kernelspec": {
   "display_name": "Python 3",
   "language": "python",
   "name": "python3"
  },
  "language_info": {
   "codemirror_mode": {
    "name": "ipython",
    "version": 3
   },
   "file_extension": ".py",
   "mimetype": "text/x-python",
   "name": "python",
   "nbconvert_exporter": "python",
   "pygments_lexer": "ipython3",
   "version": "3.8.3"
  }
 },
 "nbformat": 4,
 "nbformat_minor": 4
}
