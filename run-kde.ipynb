{
 "cells": [
  {
   "cell_type": "code",
   "execution_count": 2,
   "metadata": {
    "scrolled": true
   },
   "outputs": [
    {
     "ename": "ModuleNotFoundError",
     "evalue": "No module named 'sklearn'",
     "output_type": "error",
     "traceback": [
      "\u001b[1;31m---------------------------------------------------------------------------\u001b[0m",
      "\u001b[1;31mModuleNotFoundError\u001b[0m                       Traceback (most recent call last)",
      "\u001b[1;32m<ipython-input-2-2c75373af2ed>\u001b[0m in \u001b[0;36m<module>\u001b[1;34m\u001b[0m\n\u001b[0;32m      1\u001b[0m \u001b[1;32mimport\u001b[0m \u001b[0mnumpy\u001b[0m \u001b[1;32mas\u001b[0m \u001b[0mnp\u001b[0m\u001b[1;33m\u001b[0m\u001b[1;33m\u001b[0m\u001b[0m\n\u001b[1;32m----> 2\u001b[1;33m \u001b[1;32mfrom\u001b[0m \u001b[0mphase_est_smc\u001b[0m \u001b[1;32mimport\u001b[0m \u001b[0mphase_est_smc\u001b[0m\u001b[1;33m\u001b[0m\u001b[1;33m\u001b[0m\u001b[0m\n\u001b[0m\u001b[0;32m      3\u001b[0m \u001b[1;32mimport\u001b[0m \u001b[0mmatplotlib\u001b[0m\u001b[1;33m.\u001b[0m\u001b[0mpyplot\u001b[0m \u001b[1;32mas\u001b[0m \u001b[0mplt\u001b[0m\u001b[1;33m\u001b[0m\u001b[1;33m\u001b[0m\u001b[0m\n\u001b[0;32m      4\u001b[0m \u001b[1;31m#import seaborn as sns; sns.set()\u001b[0m\u001b[1;33m\u001b[0m\u001b[1;33m\u001b[0m\u001b[1;33m\u001b[0m\u001b[0m\n",
      "\u001b[1;32m~\\phase_est_smc\\phase_est_smc.py\u001b[0m in \u001b[0;36m<module>\u001b[1;34m\u001b[0m\n\u001b[0;32m      1\u001b[0m \u001b[1;32mimport\u001b[0m \u001b[0mnumpy\u001b[0m \u001b[1;32mas\u001b[0m \u001b[0mnp\u001b[0m\u001b[1;33m\u001b[0m\u001b[1;33m\u001b[0m\u001b[0m\n\u001b[0;32m      2\u001b[0m \u001b[1;32mfrom\u001b[0m \u001b[0msmc_memory\u001b[0m \u001b[1;32mimport\u001b[0m \u001b[0msmc_memory\u001b[0m\u001b[1;33m\u001b[0m\u001b[1;33m\u001b[0m\u001b[0m\n\u001b[1;32m----> 3\u001b[1;33m \u001b[1;32mfrom\u001b[0m \u001b[0msklearn\u001b[0m\u001b[1;33m.\u001b[0m\u001b[0mneighbors\u001b[0m \u001b[1;32mimport\u001b[0m \u001b[0mKernelDensity\u001b[0m\u001b[1;33m\u001b[0m\u001b[1;33m\u001b[0m\u001b[0m\n\u001b[0m\u001b[0;32m      4\u001b[0m \u001b[1;32mfrom\u001b[0m \u001b[0msklearn\u001b[0m\u001b[1;33m.\u001b[0m\u001b[0mmodel_selection\u001b[0m \u001b[1;32mimport\u001b[0m \u001b[0mGridSearchCV\u001b[0m\u001b[1;33m\u001b[0m\u001b[1;33m\u001b[0m\u001b[0m\n\u001b[0;32m      5\u001b[0m \u001b[1;32mfrom\u001b[0m \u001b[0mscipy\u001b[0m\u001b[1;33m.\u001b[0m\u001b[0mstats\u001b[0m \u001b[1;32mimport\u001b[0m \u001b[0mgaussian_kde\u001b[0m\u001b[1;33m\u001b[0m\u001b[1;33m\u001b[0m\u001b[0m\n",
      "\u001b[1;31mModuleNotFoundError\u001b[0m: No module named 'sklearn'"
     ]
    }
   ],
   "source": [
    "import numpy as np\n",
    "from phase_est_smc import phase_est_smc\n",
    "import matplotlib.pyplot as plt\n",
    "#import seaborn as sns; sns.set()"
   ]
  },
  {
   "cell_type": "code",
   "execution_count": null,
   "metadata": {},
   "outputs": [],
   "source": [
    "num_particles = 1000 # number of SMC particles (num of w points)\n",
    "num_samples = 10000 # number of samples to draw from the particle distribution (to be binned)\n",
    "num_bins = 100 # number of bins\n",
    "n_runs = 100 # number of different omega*\n",
    "t0 = 10 # starting time\n",
    "max_iters = 100 # maximum number of iterations before breaking\n",
    "\n"
   ]
  },
  {
   "cell_type": "code",
   "execution_count": null,
   "metadata": {
    "scrolled": true
   },
   "outputs": [],
   "source": [
    "true_omegas = []\n",
    "kde_preds = []\n",
    "kde_data = []\n",
    "rng = np.random.default_rng(200)\n",
    "\n",
    "for i in range(n_runs): \n",
    "\n",
    "    true_omega = np.random.uniform(low=-1, high =1) * np.pi\n",
    "\n",
    "    true_omegas.append(true_omega)\n",
    "    smc = phase_est_smc(true_omega, t0, max_iters)\n",
    "    smc.init_particles(num_particles)\n",
    "    resample_counts = 0\n",
    "\n",
    "    while True:\n",
    "\n",
    "        particle_pos, particle_wgts = smc.particles(threshold=num_particles/5, num_measurements=1)\n",
    "        if smc.break_flag:\n",
    "            break\n",
    "        smc.kde_resample(num_samples=num_samples, method=1, kernel='gaussian')\n",
    "        resample_counts += 1\n",
    "\n",
    "    kde_data.append(smc.data)\n",
    "    kde_preds.append(smc.curr_omega_est)\n",
    "\n",
    "    if np.abs(true_omega - smc.curr_omega_est) > 1:\n",
    "        print(\"True omega: {:f}, prediction by KDE: {:f}, num of resample calls: {:d}. Failed\".format(true_omega,\n",
    "                                                                                            smc.curr_omega_est,\n",
    "                                                                                            resample_counts))\n",
    "    else:\n",
    "        print(\"True omega: {:f}, prediction by KDE: {:f}, num of resample calls: {:d}\".format(true_omega,\n",
    "                                                                                            smc.curr_omega_est,\n",
    "                                                                                            resample_counts))\n"
   ]
  },
  {
   "cell_type": "code",
   "execution_count": null,
   "metadata": {
    "scrolled": false
   },
   "outputs": [],
   "source": [
    "for i in range(len(smc.memory.pos_wgt_bef_res)-1):\n",
    "    pos_bef_res = smc.memory.pos_wgt_bef_res[i][0]\n",
    "    wgt_bef_res = smc.memory.pos_wgt_bef_res[i][1]\n",
    "    pos_aft_res = smc.memory.pos_wgt_aft_res[i][0]\n",
    "    wgt_aft_res = smc.memory.pos_wgt_aft_res[i][1]\n",
    "    kernel = smc.memory.kernel[i]\n",
    "    \n",
    "    x_grid = np.linspace(pos_bef_res.min(), pos_bef_res.max(), 1000)\n",
    "    prob = np.exp(kernel.score_samples(x_grid[:, None]))\n",
    "    \n",
    "    fig, (ax1, ax2) = plt.subplots(1,2, figsize=(12,6))\n",
    "    ax1.hist(pos_bef_res, bins = num_bins, weights = wgt_bef_res, label='Before resampling')\n",
    "    ax1.hist(pos_aft_res, bins = num_bins, weights = wgt_aft_res, label='After resampling', alpha=0.5)\n",
    "    ax1.plot(true_omega, 0,marker='x', markersize=15)\n",
    "    #ax1.set_xlim([-np.pi, np.pi])\n",
    "    ax1.legend()\n",
    "    \n",
    "    ax2.fill_between(x_grid, prob, alpha=0.5)\n",
    "    ax2.set_ylim(bottom=0)\n",
    "    #ax2.set_xlim([-np.pi, np.pi])\n",
    "    ax2.plot(true_omega, 0,marker='x', markersize=15)\n",
    "    \n",
    "    plt.show()\n",
    "    "
   ]
  },
  {
   "cell_type": "code",
   "execution_count": null,
   "metadata": {},
   "outputs": [],
   "source": [
    "kde_data_squared = ( np.array(kde_data) - np.array(true_omegas).reshape(-1,1)) ** 2 \n",
    "kde_data_mean = np.mean(kde_data_squared, axis=0)\n",
    "kde_data_median = np.median(kde_data_squared, axis =0)\n",
    "\n",
    "print(\"MSE: {:f}, Median: {:f}\".format(kde_data_mean[-1], kde_data_median[-1]))"
   ]
  },
  {
   "cell_type": "code",
   "execution_count": null,
   "metadata": {},
   "outputs": [],
   "source": [
    "num_data_points = kde_data_squared.shape[1]\n",
    "\n",
    "plt.plot(np.arange(1,num_data_points+1, dtype=int), kde_data_mean, label='Mean')\n",
    "plt.plot(np.arange(1,num_data_points+1, dtype=int), kde_data_median, label='Median')\n",
    "plt.legend()\n",
    "plt.title(\"KDE\")\n",
    "plt.xlabel(\"Iters\")\n",
    "plt.ylabel(\"$(\\omega - \\omega*)^2$\")\n",
    "plt.yscale('log')\n",
    "plt.show()"
   ]
  },
  {
   "cell_type": "code",
   "execution_count": null,
   "metadata": {},
   "outputs": [],
   "source": []
  }
 ],
 "metadata": {
  "kernelspec": {
   "display_name": "Python 3",
   "language": "python",
   "name": "python3"
  }
 },
 "nbformat": 4,
 "nbformat_minor": 4
}
