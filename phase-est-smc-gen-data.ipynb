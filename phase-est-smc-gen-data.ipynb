{
 "cells": [
  {
   "cell_type": "code",
   "execution_count": 2,
   "metadata": {},
   "outputs": [],
   "source": [
    "import numpy as np\n",
    "import matplotlib.pyplot as plt\n",
    "from tqdm import tqdm\n",
    "\n",
    "#np.random.seed(10)"
   ]
  },
  {
   "cell_type": "markdown",
   "metadata": {},
   "source": [
    "## Measurement probabilities for phase estimation"
   ]
  },
  {
   "cell_type": "code",
   "execution_count": 3,
   "metadata": {},
   "outputs": [],
   "source": [
    "def prob_zero(omega, phi, t):\n",
    "    return (np.cos((omega-phi)*t/2)) **2\n",
    "\n",
    "def prob_one(omega, phi, t):\n",
    "    return (np.sin((omega-phi)*t/2)) **2"
   ]
  },
  {
   "cell_type": "markdown",
   "metadata": {},
   "source": [
    "## SMC phase estimation class"
   ]
  },
  {
   "cell_type": "code",
   "execution_count": 4,
   "metadata": {},
   "outputs": [],
   "source": [
    "class phase_est_smc:\n",
    "\n",
    "    def __init__(self, omega_star, t0):\n",
    "        self.omega_star = omega_star\n",
    "        self.t = t0\n",
    "\n",
    "    def init_particles(self, num_particles):\n",
    "        \"\"\"\n",
    "        Initializes the particles for SMC.\n",
    "\n",
    "        Args:\n",
    "            num_particles: number of particles in the SMC algorithm\n",
    "        \"\"\"\n",
    "        self.num_particles = num_particles\n",
    "        self.particle_pos = np.linspace(0, 2*np.pi, self.num_particles)\n",
    "        self.particle_wgts = np.ones(num_particles) * 1/num_particles # uniform weight initialization\n",
    "\n",
    "    def particles(self, num_measurements=1, threshold=None):\n",
    "        \"\"\"\n",
    "        Runs the SMC algorithm for current experiment until the threshold exceeded\n",
    "\n",
    "        Args:\n",
    "            num_measurements: number of measurements per update\n",
    "            threshold: threshold for n_eff. defaults to self.num_particles/10\n",
    "\n",
    "        Returns:\n",
    "            array of particle positions and their corresponding weights\n",
    "        \"\"\"\n",
    "\n",
    "        if threshold is None:\n",
    "            threshold = self.num_particles/10\n",
    "\n",
    "        n_eff = None # init None so it will be calculated on first iteration of while loop\n",
    "\n",
    "        counter = 0 \n",
    "        while n_eff is None or n_eff >= threshold:\n",
    "            \n",
    "            # get measurement\n",
    "            phi_k = np.random.uniform() * 2 * np.pi\n",
    "            measure_list = []\n",
    "            for _ in range(num_measurements):\n",
    "                r = np.random.uniform()\n",
    "                if r <= prob_zero(self.omega_star, phi_k, self.t):\n",
    "                    measure_list.append(0)\n",
    "                else:\n",
    "                    measure_list.append(1)\n",
    "\n",
    "            particle_prob = np.ones(shape=self.num_particles)\n",
    "            for i in range(num_measurements):\n",
    "                if measure_list[i] == 0:\n",
    "                    particle_prob = np.multiply(particle_prob, prob_zero(self.particle_pos, phi_k, self.t))\n",
    "                else:\n",
    "                    particle_prob = np.multiply(particle_prob, prob_one(self.particle_pos, phi_k, self.t))\n",
    "\n",
    "            # bayes update of weights\n",
    "            self.particle_wgts = np.multiply(self.particle_wgts, particle_prob) # numerator\n",
    "            norm = np.sum(self.particle_wgts) # denominator\n",
    "            self.particle_wgts /= norm \n",
    "            \n",
    "            # recalculate n_eff\n",
    "            n_eff = 1/(np.sum(self.particle_wgts**2))\n",
    "\n",
    "            counter += 1\n",
    "            self.update_t()\n",
    "            \n",
    "            # if counter % 20 == 0:\n",
    "            #     print(\"current iteration {:d}, n_eff = {:f} vs threshold {:f}\".format(counter, n_eff, threshold))\n",
    "\n",
    "        return self.particle_pos, self.particle_wgts\n",
    "\n",
    "    def update_t(self, factor=9/8):\n",
    "        \"\"\"\n",
    "        Updates time by given factor\n",
    "        \"\"\"\n",
    "        self.t = self.t * factor\n",
    "\n",
    "    def bootstrap_resample(self):\n",
    "        \"\"\"\n",
    "        Simple bootstrap resampler\n",
    "        \"\"\"\n",
    "        self.particle_pos = np.random.choice(self.particle_pos, size = self.num_particles, p=self.particle_wgts)\n",
    "        self.particle_wgts = np.ones(self.num_particles) * 1/self.num_particles\n",
    "        \n",
    "    def nn_resample(self, bins, edges):\n",
    "        \"\"\"\n",
    "        Convert NN bins to particles.\n",
    "\n",
    "        Args:\n",
    "            bins:  [1 x n] np array of bins\n",
    "            edges: [1 x n+1] np array of bin edges\n",
    "        \"\"\"\n",
    "        \n",
    "        bins = bins[0]\n",
    "        edges = edges[0]\n",
    "        self.particle_pos = (edges[1:] + edges[:-1]) / 2 ## mid point of each bin is the position\n",
    "        self.particle_wgts = bins\n",
    " \n",
    "        "
   ]
  },
  {
   "cell_type": "markdown",
   "metadata": {},
   "source": [
    "## Define variables for storing data"
   ]
  },
  {
   "cell_type": "code",
   "execution_count": 41,
   "metadata": {},
   "outputs": [],
   "source": [
    "num_particles = 100 # number of SMC particles (num of w points)\n",
    "num_samples = 10000 # number of samples to draw from the particle distribution (to be binned)\n",
    "num_bins = 100 # number of bins\n",
    "num_data = 10000 # number of data sets (different w*)\n",
    "\n",
    "train_data = np.empty((0,num_bins), float)\n",
    "train_edges = np.empty((0, num_bins+1), float)\n",
    "train_mean = np.empty((0,), float)\n",
    "train_std = np.empty((0,), float)"
   ]
  },
  {
   "cell_type": "code",
   "execution_count": 42,
   "metadata": {
    "scrolled": true
   },
   "outputs": [
    {
     "name": "stderr",
     "output_type": "stream",
     "text": [
      "100%|████████████████████████████████████████████████████████████████████████████████████| 1/1 [00:00<00:00, 64.06it/s]\n"
     ]
    }
   ],
   "source": [
    "for i in tqdm(range(num_data)): # loop over different experiments\n",
    "    \n",
    "    t0 = 0.1\n",
    "    omega_star = np.random.uniform() * 2 * np.pi\n",
    "    smc = phase_est_smc(omega_star, t0)\n",
    "    smc.init_particles(num_particles)\n",
    "    \n",
    "    particle_pos, particle_wgts = smc.particles(threshold=num_particles/5, num_measurements=1)\n",
    "    data = np.random.choice(particle_pos, size = num_samples, p=particle_wgts)\n",
    "    mean = np.mean(data)\n",
    "    std = np.std(data)\n",
    "    \n",
    "    data = (data-mean)/std\n",
    "    bins, edges_ = np.histogram(data, num_bins)\n",
    "    bins = bins/num_samples\n",
    "\n",
    "    train_mean = np.append(train_mean, mean)\n",
    "    train_std = np.append(train_std, std)\n",
    "    train_data = np.append(train_data, [bins], axis=0)\n",
    "    train_edges = np.append(train_edges, [edges_], axis =0)\n",
    "\n",
    "#     plt.scatter(particle_pos, particle_wgts)\n",
    "#     plt.show()\n",
    "        \n",
    "#         edge_width = edges_[1] - edges_[0]\n",
    "#         edges_plot = edges_[:-1]\n",
    "#         plt.bar(edges_plot, bins, align='edge', width=edge_width)\n",
    "#         plt.show()"
   ]
  },
  {
   "cell_type": "code",
   "execution_count": 43,
   "metadata": {},
   "outputs": [],
   "source": [
    "# np.save(\"phase_est_data.npy\", train_data)\n",
    "# np.save(\"phase_est_edges.npy\", train_edges)\n",
    "# np.save(\"phase_est_mean.npy\", train_mean)\n",
    "# np.save(\"phase_est_std.npy\", train_std)"
   ]
  },
  {
   "cell_type": "code",
   "execution_count": null,
   "metadata": {},
   "outputs": [],
   "source": []
  }
 ],
 "metadata": {
  "kernelspec": {
   "display_name": "Python 3",
   "language": "python",
   "name": "python3"
  },
  "language_info": {
   "codemirror_mode": {
    "name": "ipython",
    "version": 3
   },
   "file_extension": ".py",
   "mimetype": "text/x-python",
   "name": "python",
   "nbconvert_exporter": "python",
   "pygments_lexer": "ipython3",
   "version": "3.8.3"
  }
 },
 "nbformat": 4,
 "nbformat_minor": 4
}
