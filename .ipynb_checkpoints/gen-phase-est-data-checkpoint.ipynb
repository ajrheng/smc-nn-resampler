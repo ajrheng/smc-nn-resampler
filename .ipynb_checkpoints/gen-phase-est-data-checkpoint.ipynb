{
 "cells": [
  {
   "cell_type": "code",
   "execution_count": 12,
   "metadata": {},
   "outputs": [
    {
     "name": "stdout",
     "output_type": "stream",
     "text": [
      "cuda:0\n"
     ]
    }
   ],
   "source": [
    "import torch\n",
    "import math\n",
    "import torch.nn as nn\n",
    "import torch.nn.functional as F\n",
    "import numpy as np\n",
    "import torch.optim as optim\n",
    "import matplotlib.pyplot as plt\n",
    "import scipy.stats\n",
    "from tqdm import tqdm\n",
    "\n",
    "device = torch.device(\"cuda:0\" if torch.cuda.is_available() else \"cpu\")\n",
    "print(device)"
   ]
  },
  {
   "cell_type": "code",
   "execution_count": 13,
   "metadata": {},
   "outputs": [],
   "source": [
    "from nn_resampler import nn_resampler\n",
    "from phase_est_smc import phase_est_smc"
   ]
  },
  {
   "cell_type": "code",
   "execution_count": 14,
   "metadata": {},
   "outputs": [],
   "source": [
    "num_particles = 1000 # number of SMC particles (num of w points)\n",
    "num_samples = 10000 # number of samples to draw from the particle distribution (to be binned)\n",
    "num_bins = 100 # number of bins\n",
    "n_iters = 1000 # number of different omega*\n",
    "t0 = 0.1 # starting time\n",
    "max_iters = 100 # maximum number of iterations before breaking"
   ]
  },
  {
   "cell_type": "code",
   "execution_count": 15,
   "metadata": {},
   "outputs": [],
   "source": [
    "net = nn_resampler(100,100);\n",
    "net.load_state_dict(torch.load(\"model/nn_no_normalize.model\"));\n",
    "net.eval();"
   ]
  },
  {
   "cell_type": "markdown",
   "metadata": {},
   "source": [
    "## Generate arbitrary data before resampling (can be good or poor SMC runs)"
   ]
  },
  {
   "cell_type": "code",
   "execution_count": 16,
   "metadata": {
    "scrolled": true
   },
   "outputs": [
    {
     "name": "stdout",
     "output_type": "stream",
     "text": [
      "Current progress: 100/10000\n",
      "Current progress: 200/10000\n",
      "Current progress: 300/10000\n",
      "Current progress: 400/10000\n",
      "Current progress: 500/10000\n",
      "Current progress: 600/10000\n",
      "Current progress: 700/10000\n",
      "Current progress: 800/10000\n",
      "Current progress: 900/10000\n",
      "Current progress: 1000/10000\n",
      "Current progress: 1100/10000\n",
      "Current progress: 1200/10000\n",
      "Current progress: 1300/10000\n",
      "Current progress: 1400/10000\n",
      "Current progress: 1500/10000\n",
      "Current progress: 1600/10000\n",
      "Current progress: 1700/10000\n",
      "Current progress: 1800/10000\n",
      "Current progress: 1900/10000\n",
      "Current progress: 2000/10000\n",
      "Current progress: 2100/10000\n",
      "Current progress: 2200/10000\n",
      "Current progress: 2300/10000\n",
      "Current progress: 2400/10000\n",
      "Current progress: 2500/10000\n",
      "Current progress: 2600/10000\n",
      "Current progress: 2700/10000\n",
      "Current progress: 2800/10000\n",
      "Current progress: 2900/10000\n",
      "Current progress: 3000/10000\n",
      "Current progress: 3100/10000\n",
      "Current progress: 3200/10000\n",
      "Current progress: 3300/10000\n",
      "Current progress: 3400/10000\n",
      "Current progress: 3500/10000\n",
      "Current progress: 3600/10000\n",
      "Current progress: 3700/10000\n",
      "Current progress: 3800/10000\n",
      "Current progress: 3900/10000\n",
      "Current progress: 4000/10000\n",
      "Current progress: 4100/10000\n",
      "Current progress: 4200/10000\n",
      "Current progress: 4300/10000\n",
      "Current progress: 4400/10000\n",
      "Current progress: 4500/10000\n",
      "Current progress: 4600/10000\n",
      "Current progress: 4700/10000\n",
      "Current progress: 4800/10000\n",
      "Current progress: 4900/10000\n",
      "Current progress: 5000/10000\n",
      "Current progress: 5100/10000\n",
      "Current progress: 5200/10000\n",
      "Current progress: 5300/10000\n",
      "Current progress: 5400/10000\n",
      "Current progress: 5500/10000\n",
      "Current progress: 5600/10000\n",
      "Current progress: 5700/10000\n",
      "Current progress: 5800/10000\n",
      "Current progress: 5900/10000\n",
      "Current progress: 6000/10000\n",
      "Current progress: 6100/10000\n",
      "Current progress: 6200/10000\n",
      "Current progress: 6300/10000\n",
      "Current progress: 6400/10000\n",
      "Current progress: 6500/10000\n",
      "Current progress: 6600/10000\n",
      "Current progress: 6700/10000\n",
      "Current progress: 6800/10000\n",
      "Current progress: 6900/10000\n",
      "Current progress: 7000/10000\n",
      "Current progress: 7100/10000\n",
      "Current progress: 7200/10000\n",
      "Current progress: 7300/10000\n",
      "Current progress: 7400/10000\n",
      "Current progress: 7500/10000\n",
      "Current progress: 7600/10000\n",
      "Current progress: 7700/10000\n",
      "Current progress: 7800/10000\n",
      "Current progress: 7900/10000\n",
      "Current progress: 8000/10000\n",
      "Current progress: 8100/10000\n",
      "Current progress: 8200/10000\n",
      "Current progress: 8300/10000\n",
      "Current progress: 8400/10000\n",
      "Current progress: 8500/10000\n",
      "Current progress: 8600/10000\n",
      "Current progress: 8700/10000\n",
      "Current progress: 8800/10000\n",
      "Current progress: 8900/10000\n",
      "Current progress: 9000/10000\n",
      "Current progress: 9100/10000\n",
      "Current progress: 9200/10000\n",
      "Current progress: 9300/10000\n",
      "Current progress: 9400/10000\n",
      "Current progress: 9500/10000\n",
      "Current progress: 9600/10000\n",
      "Current progress: 9700/10000\n",
      "Current progress: 9800/10000\n",
      "Current progress: 9900/10000\n",
      "Current progress: 10000/10000\n"
     ]
    }
   ],
   "source": [
    "n_data = 0\n",
    "n_data_max = 10000\n",
    "bins_data = []\n",
    "edges_data = []\n",
    "\n",
    "while n_data < n_data_max:\n",
    "    \n",
    "    omega_star = np.random.uniform(low=-1, high =1) * np.pi\n",
    "    \n",
    "    omega_star_list.append(omega_star)\n",
    "    smc = phase_est_smc(omega_star, t0, max_iters)\n",
    "    smc.init_particles(num_particles)\n",
    "\n",
    "    # take data from first resample step only\n",
    "    particle_pos, particle_wgts = smc.particles(threshold=num_particles/5, num_measurements=1)\n",
    "    bins, edges = smc.get_bins(num_bins, num_samples)\n",
    "    \n",
    "    bins_data.append(bins)\n",
    "    edges_data.append(edges)\n",
    "            \n",
    "    n_data += 1\n",
    "        \n",
    "    if n_data % 1000 == 0:\n",
    "        print(\"Current progress: {:d}/{:d}\".format(n_data,n_data_max))"
   ]
  },
  {
   "cell_type": "code",
   "execution_count": 18,
   "metadata": {},
   "outputs": [],
   "source": [
    "good_bins = np.array(bins_data)\n",
    "good_edges = np.array(edges_data)\n",
    "np.save(\"data/good_bins.npy\", good_bins)\n",
    "np.save(\"data/good_edges\", good_edges)"
   ]
  },
  {
   "cell_type": "markdown",
   "metadata": {},
   "source": [
    "## Generate resampling failed data"
   ]
  },
  {
   "cell_type": "code",
   "execution_count": 19,
   "metadata": {
    "scrolled": false
   },
   "outputs": [
    {
     "name": "stdout",
     "output_type": "stream",
     "text": [
      "Current progress: 100/5000\n",
      "Current progress: 200/5000\n",
      "Current progress: 300/5000\n",
      "Current progress: 400/5000\n",
      "Current progress: 500/5000\n",
      "Current progress: 600/5000\n",
      "Current progress: 700/5000\n",
      "Current progress: 800/5000\n",
      "Current progress: 900/5000\n",
      "Current progress: 1000/5000\n",
      "Current progress: 1100/5000\n",
      "Current progress: 1200/5000\n",
      "Current progress: 1300/5000\n",
      "Current progress: 1400/5000\n",
      "Current progress: 1500/5000\n",
      "Current progress: 1600/5000\n",
      "Current progress: 1700/5000\n",
      "Current progress: 1800/5000\n",
      "Current progress: 1900/5000\n",
      "Current progress: 2000/5000\n",
      "Current progress: 2100/5000\n",
      "Current progress: 2200/5000\n",
      "Current progress: 2300/5000\n",
      "Current progress: 2400/5000\n",
      "Current progress: 2500/5000\n",
      "Current progress: 2600/5000\n",
      "Current progress: 2700/5000\n",
      "Current progress: 2800/5000\n",
      "Current progress: 2900/5000\n",
      "Current progress: 3000/5000\n",
      "Current progress: 3100/5000\n",
      "Current progress: 3200/5000\n",
      "Current progress: 3300/5000\n",
      "Current progress: 3400/5000\n",
      "Current progress: 3500/5000\n",
      "Current progress: 3600/5000\n",
      "Current progress: 3700/5000\n",
      "Current progress: 3800/5000\n",
      "Current progress: 3900/5000\n",
      "Current progress: 4000/5000\n",
      "Current progress: 4100/5000\n",
      "Current progress: 4200/5000\n",
      "Current progress: 4300/5000\n",
      "Current progress: 4400/5000\n",
      "Current progress: 4500/5000\n",
      "Current progress: 4600/5000\n",
      "Current progress: 4700/5000\n",
      "Current progress: 4800/5000\n",
      "Current progress: 4900/5000\n",
      "Current progress: 5000/5000\n"
     ]
    }
   ],
   "source": [
    "n_data = 0\n",
    "n_data_max = 5000\n",
    "bins_data = []\n",
    "edges_data = []\n",
    "\n",
    "while n_data < n_data_max:\n",
    "    \n",
    "    omega_star = np.random.uniform(low=-1, high =1) * np.pi\n",
    "    \n",
    "    omega_star_list.append(omega_star)\n",
    "    smc = phase_est_smc(omega_star, t0, max_iters)\n",
    "    smc.init_particles(num_particles)\n",
    "    resample_counts = 0\n",
    "    \n",
    "    while True:\n",
    "        \n",
    "        particle_pos, particle_wgts = smc.particles(threshold=num_particles/5, num_measurements=1)\n",
    "        bins, edges = smc.get_bins(num_bins, num_samples)\n",
    "        \n",
    "        if smc.break_flag:\n",
    "            break\n",
    "            \n",
    "        nn_pred = net(torch.tensor(bins).float().unsqueeze(0)) ## convert to float tensor, then make dim [1, num_bins]\n",
    "        smc.nn_bins_to_particles(nn_pred.detach().numpy(), edges)\n",
    "        \n",
    "        resample_counts += 1\n",
    "    \n",
    "    # if we detect a failed example, store that as training data\n",
    "    if abs(smc.curr_omega_est - omega_star) > 1:\n",
    "\n",
    "        \n",
    "        # first resample data\n",
    "        bins_data.append(smc.memory.bins_edges_bef_res[0][0])\n",
    "        edges_data.append(smc.memory.bins_edges_bef_res[0][1])\n",
    "        \n",
    "        if len(smc.memory.bins_edges_bef_res) >= 2:\n",
    "        \n",
    "            # second resample data\n",
    "            bins_data.append(smc.memory.bins_edges_bef_res[1][0])\n",
    "            edges_data.append(smc.memory.bins_edges_bef_res[1][1])\n",
    "                                                                        \n",
    "            \n",
    "        n_data += 1\n",
    "        \n",
    "        if n_data % 100 == 0:\n",
    "            print(\"Current progress: {:d}/{:d}\".format(n_data,n_data_max))"
   ]
  },
  {
   "cell_type": "code",
   "execution_count": 21,
   "metadata": {},
   "outputs": [],
   "source": [
    "poor_bins = np.array(bins_data)\n",
    "poor_edges = np.array(edges_data)\n",
    "np.save(\"data/poor_bins.npy\", poor_bins)\n",
    "np.save(\"data/poor_edges\", poor_edges)"
   ]
  },
  {
   "cell_type": "code",
   "execution_count": null,
   "metadata": {},
   "outputs": [],
   "source": []
  }
 ],
 "metadata": {
  "kernelspec": {
   "display_name": "Python 3",
   "language": "python",
   "name": "python3"
  },
  "language_info": {
   "codemirror_mode": {
    "name": "ipython",
    "version": 3
   },
   "file_extension": ".py",
   "mimetype": "text/x-python",
   "name": "python",
   "nbconvert_exporter": "python",
   "pygments_lexer": "ipython3",
   "version": "3.8.3"
  }
 },
 "nbformat": 4,
 "nbformat_minor": 4
}
