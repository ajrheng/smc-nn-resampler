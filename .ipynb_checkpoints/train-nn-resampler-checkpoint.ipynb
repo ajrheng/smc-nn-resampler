{
 "cells": [
  {
   "cell_type": "code",
   "execution_count": 14,
   "metadata": {},
   "outputs": [
    {
     "name": "stdout",
     "output_type": "stream",
     "text": [
      "cuda:0\n"
     ]
    }
   ],
   "source": [
    "import torch\n",
    "import math\n",
    "import torch.nn as nn\n",
    "import torch.nn.functional as F\n",
    "import numpy as np\n",
    "import torch.optim as optim\n",
    "import matplotlib.pyplot as plt\n",
    "import scipy.stats\n",
    "from tqdm import tqdm\n",
    "from sklearn.model_selection import train_test_split\n",
    "\n",
    "seed = 10000\n",
    "torch.manual_seed(seed)\n",
    "np.random.seed(seed)\n",
    "\n",
    "generate_data = False\n",
    "load = False\n",
    "save = True\n",
    "\n",
    "device = torch.device(\"cuda:0\" if torch.cuda.is_available() else \"cpu\")\n",
    "print(device)"
   ]
  },
  {
   "cell_type": "code",
   "execution_count": 15,
   "metadata": {},
   "outputs": [],
   "source": [
    "class Net(nn.Module):\n",
    "    \n",
    "    def __init__(self, n_input, n_output):\n",
    "        super(Net, self).__init__()\n",
    "        \n",
    "        # encoder\n",
    "        self.enc1 = nn.Linear(n_input,75)\n",
    "        self.enc2 = nn.Linear(75,50)\n",
    "        self.enc3 = nn.Linear(50,25)\n",
    "        self.enc4 = nn.Linear(25,10)\n",
    "        \n",
    "        # decoder\n",
    "        self.dec1 = nn.Linear(10, 25)\n",
    "        self.dec2 = nn.Linear(25, 50)\n",
    "        self.dec3 = nn.Linear(50, 75)\n",
    "        self.dec4 = nn.Linear(75, n_output)\n",
    "        \n",
    "        #bn\n",
    "        self.bn_enc1 = nn.BatchNorm1d(75)\n",
    "        self.bn_enc2 = nn.BatchNorm1d(50)\n",
    "        self.bn_enc3 = nn.BatchNorm1d(25)\n",
    "        self.bn_enc4 = nn.BatchNorm1d(10)\n",
    "        self.bn_dec1 = nn.BatchNorm1d(25)\n",
    "        self.bn_dec2 = nn.BatchNorm1d(50)\n",
    "        self.bn_dec3 = nn.BatchNorm1d(75)\n",
    "\n",
    "\n",
    "    def forward(self, x):\n",
    "        x = self.bn_enc1(torch.relu(self.enc1(x)))\n",
    "        x = self.bn_enc2(torch.relu(self.enc2(x)))\n",
    "        x = self.bn_enc3(torch.relu(self.enc3(x)))\n",
    "        x = self.bn_enc4(torch.relu(self.enc4(x)))\n",
    "        x = self.bn_dec1(torch.relu(self.dec1(x)))\n",
    "        x = self.bn_dec2(torch.relu(self.dec2(x)))\n",
    "        x = self.bn_dec3(torch.relu(self.dec3(x)))\n",
    "        x = F.softmax(self.dec4(x), dim=1)\n",
    "        return x"
   ]
  },
  {
   "cell_type": "code",
   "execution_count": 16,
   "metadata": {},
   "outputs": [],
   "source": [
    "def num_samples_per_mode(num_modes, total_points):\n",
    "    \"\"\"\n",
    "    Returns the number of points to sample for each number of mode.\n",
    "    \n",
    "    Args:\n",
    "        num_modes: number of different modes in the multimodal distribution\n",
    "        total_points: total number of points to draw for all modes\n",
    "        \n",
    "    Returns:\n",
    "        array with the number of samples per mode. the elements sum to total_points\n",
    "    \"\"\"\n",
    "    prob_per_mode = np.random.dirichlet(np.ones(num_modes))\n",
    "    num_samples = []\n",
    "    \n",
    "    for i in range(num_modes):\n",
    "        \n",
    "        if i == num_modes - 1: # if the last mode:\n",
    "            num = total_points - sum(num_samples)\n",
    "        else:\n",
    "            num = int(prob_per_mode[i] * total_points)\n",
    "            \n",
    "        num_samples.append(num)\n",
    "        \n",
    "    return np.array(num_samples)"
   ]
  },
  {
   "cell_type": "code",
   "execution_count": 17,
   "metadata": {},
   "outputs": [],
   "source": [
    "def draw_binned_gaussian(num_data, num_samples, num_bins, num_modes):\n",
    "    \"\"\"\n",
    "    Returns (binned_data, binned_edges)\n",
    "    binned_data contains the binned training data, has dimensions [num_data, num_bins]\n",
    "    binned_edges contains the binned edges, has dimensions [num_data, num_bins+1]\n",
    "    \n",
    "    Args:\n",
    "        num_data: number of data points (full batch size)\n",
    "        num_samples: number of samples/particles to draw\n",
    "        num_bins: number of bins\n",
    "        num_modes: number of modes you want in the data. each data\n",
    "                   point will have a random number of modes from 1 to num_modes\n",
    "    \"\"\"\n",
    "    \n",
    "#     binned_data = np.empty((0, num_bins), float)\n",
    "#     edges = np.empty((0, num_bins+1), float)\n",
    "    binned_data = []\n",
    "    edges = []\n",
    "    \n",
    "    for i in tqdm(range(num_data)):\n",
    "        num_mode = np.random.randint(low=1, high=num_modes)\n",
    "        num_samples_list = num_samples_per_mode(num_mode, num_samples)\n",
    "        \n",
    "        points = np.empty(shape=0)\n",
    "        \n",
    "        for n_samples in num_samples_list:\n",
    "            mean = np.random.uniform(-10,10)\n",
    "            std = np.random.uniform(0.1,1)\n",
    "            points_ = np.random.normal(loc=mean, scale=std, size=n_samples)\n",
    "            points = np.append(points, points_)\n",
    "            \n",
    "        bins_, edges_ = np.histogram(points, bins=num_bins)\n",
    "        bins_ = bins_/num_samples\n",
    "        edges_ = (edges_[:-1] + edges_[1:])/2\n",
    "    \n",
    "        binned_data.append(bins_)\n",
    "        edges.append(edges_)\n",
    "        \n",
    "    return np.array(binned_data), np.array(edges)\n",
    "        "
   ]
  },
  {
   "cell_type": "code",
   "execution_count": 18,
   "metadata": {
    "scrolled": true
   },
   "outputs": [],
   "source": [
    "train_num_data = 50000\n",
    "test_num_data = 5000\n",
    "num_samples = 10000\n",
    "num_bins = 100\n",
    "num_modes = 10\n",
    "\n",
    "if generate_data is True:\n",
    "    train_data, train_edges = draw_binned_gaussian(train_num_data, num_samples, num_bins, num_modes)\n",
    "    test_data, test_edges = draw_binned_gaussian(test_num_data, num_samples, num_bins, num_modes)\n",
    "    np.save(\"data/train_data.npy\", train_data)\n",
    "    np.save(\"data/train_edges.npy\", train_edges)\n",
    "    np.save(\"data/test_data.npy\", test_data)\n",
    "    np.save(\"data/test_edges.npy\", test_edges)\n",
    "else:\n",
    "    train_data = np.load(\"data/train_data.npy\")\n",
    "    train_edges = np.load(\"data/train_edges.npy\")\n",
    "    test_data = np.load(\"data/test_data.npy\")\n",
    "    test_edges = np.load(\"data/test_edges.npy\")\n",
    "    \n"
   ]
  },
  {
   "cell_type": "code",
   "execution_count": 19,
   "metadata": {},
   "outputs": [],
   "source": [
    "# load phase estimation data\n",
    "\n",
    "good_phase_est_bins = np.load(\"data/good_bins.npy\")\n",
    "good_phase_est_edges = np.load(\"data/good_edges.npy\")\n",
    "\n",
    "bins_train, good_bins_val, edges_train, good_edges_val = train_test_split(\n",
    "    good_phase_est_bins, good_phase_est_edges, test_size=0.001)\n",
    "\n",
    "bins_train, bins_test, edges_train, edges_test = train_test_split(\n",
    "    bins_train, edges_train, test_size=0.1)\n",
    "\n",
    "train_data = np.append(train_data, bins_train, axis=0)\n",
    "train_edges = np.append(train_edges, edges_train, axis=0)\n",
    "test_data = np.append(test_data, bins_test, axis=0)\n",
    "test_edges = np.append(test_edges, edges_test, axis=0)"
   ]
  },
  {
   "cell_type": "code",
   "execution_count": 20,
   "metadata": {},
   "outputs": [],
   "source": [
    "poor_phase_est_bins = np.load(\"data/poor_bins.npy\")\n",
    "poor_phase_est_edges = np.load(\"data/poor_edges.npy\")\n",
    "\n",
    "bins_train, poor_bins_val, edges_train, poor_edges_val = train_test_split(\n",
    "    good_phase_est_bins, good_phase_est_edges, test_size=0.001)\n",
    "\n",
    "bins_train, bins_test, edges_train, edges_test = train_test_split(\n",
    "    poor_phase_est_bins, poor_phase_est_edges, test_size=0.1)\n",
    "\n",
    "train_data = np.append(train_data, bins_train, axis=0)\n",
    "train_edges = np.append(train_edges, edges_train, axis=0)\n",
    "test_data = np.append(test_data, bins_test, axis=0)\n",
    "test_edges = np.append(test_edges, edges_test, axis=0)"
   ]
  },
  {
   "cell_type": "code",
   "execution_count": 21,
   "metadata": {},
   "outputs": [],
   "source": [
    "train_data = train_data.astype(np.float32)\n",
    "train_data = torch.from_numpy(train_data)\n",
    "train_data = train_data.to(device)\n",
    "\n",
    "test_data = test_data.astype(np.float32)\n",
    "test_data = torch.from_numpy(test_data)\n",
    "test_data = test_data.to(device)"
   ]
  },
  {
   "cell_type": "code",
   "execution_count": 23,
   "metadata": {},
   "outputs": [],
   "source": [
    "good_bins_val = good_bins_val.astype(np.float32)\n",
    "good_bins_val = torch.from_numpy(good_bins_val)\n",
    "good_bins_val = good_bins_val.to(device)\n",
    "\n",
    "poor_bins_val = poor_bins_val.astype(np.float32)\n",
    "poor_bins_val = torch.from_numpy(poor_bins_val)\n",
    "poor_bins_val = poor_bins_val.to(device)"
   ]
  },
  {
   "cell_type": "code",
   "execution_count": 24,
   "metadata": {},
   "outputs": [],
   "source": [
    "train_dataset = torch.utils.data.TensorDataset(train_data)\n",
    "train_data_loader = torch.utils.data.DataLoader(dataset=train_dataset, batch_size=512, shuffle=True)"
   ]
  },
  {
   "cell_type": "code",
   "execution_count": 25,
   "metadata": {},
   "outputs": [],
   "source": [
    "epochs = 1000\n",
    "net = Net(100,100)\n",
    "net = net.to(device)\n",
    "optimizer = optim.Adam(net.parameters(), lr=0.001)\n",
    "scheduler = optim.lr_scheduler.StepLR(optimizer, step_size=250, gamma=0.3)\n",
    "loss_func = nn.KLDivLoss()\n",
    "net.train();"
   ]
  },
  {
   "cell_type": "code",
   "execution_count": 26,
   "metadata": {},
   "outputs": [
    {
     "name": "stderr",
     "output_type": "stream",
     "text": [
      "C:\\Users\\alvin\\anaconda3\\lib\\site-packages\\torch\\nn\\functional.py:2398: UserWarning: reduction: 'mean' divides the total loss by both the batch size and the support size.'batchmean' divides only by the batch size, and aligns with the KL div math definition.'mean' will be changed to behave the same as 'batchmean' in the next major release.\n",
      "  warnings.warn(\"reduction: 'mean' divides the total loss by both the batch size and the support size.\"\n"
     ]
    },
    {
     "name": "stdout",
     "output_type": "stream",
     "text": [
      "Epoch: 4, train loss: 0.001771, test loss: 0.001668,\n",
      "Epoch: 9, train loss: 0.001274, test loss: 0.001256,\n",
      "Epoch: 14, train loss: 0.001136, test loss: 0.001127,\n",
      "Epoch: 19, train loss: 0.001031, test loss: 0.001030,\n",
      "Epoch: 24, train loss: 0.000961, test loss: 0.000969,\n",
      "Epoch: 29, train loss: 0.000921, test loss: 0.000931,\n",
      "Epoch: 34, train loss: 0.000899, test loss: 0.000910,\n",
      "Epoch: 39, train loss: 0.000877, test loss: 0.000879,\n",
      "Epoch: 44, train loss: 0.000864, test loss: 0.000872,\n",
      "Epoch: 49, train loss: 0.000852, test loss: 0.000859,\n",
      "Epoch: 54, train loss: 0.000843, test loss: 0.000843,\n",
      "Epoch: 59, train loss: 0.000832, test loss: 0.000837,\n",
      "Epoch: 64, train loss: 0.000829, test loss: 0.000832,\n",
      "Epoch: 69, train loss: 0.000818, test loss: 0.000825,\n",
      "Epoch: 74, train loss: 0.000813, test loss: 0.000813,\n",
      "Epoch: 79, train loss: 0.000807, test loss: 0.000833,\n",
      "Epoch: 84, train loss: 0.000805, test loss: 0.000821,\n",
      "Epoch: 89, train loss: 0.000801, test loss: 0.000813,\n",
      "Epoch: 94, train loss: 0.000796, test loss: 0.000817,\n",
      "Epoch: 99, train loss: 0.000792, test loss: 0.000803,\n",
      "Epoch: 104, train loss: 0.000788, test loss: 0.000804,\n",
      "Epoch: 109, train loss: 0.000785, test loss: 0.000806,\n",
      "Epoch: 114, train loss: 0.000782, test loss: 0.000793,\n",
      "Epoch: 119, train loss: 0.000779, test loss: 0.000794,\n",
      "Epoch: 124, train loss: 0.000778, test loss: 0.000798,\n",
      "Epoch: 129, train loss: 0.000773, test loss: 0.000788,\n",
      "Epoch: 134, train loss: 0.000771, test loss: 0.000781,\n",
      "Epoch: 139, train loss: 0.000771, test loss: 0.000779,\n",
      "Epoch: 144, train loss: 0.000765, test loss: 0.000782,\n",
      "Epoch: 149, train loss: 0.000765, test loss: 0.000784,\n",
      "Epoch: 154, train loss: 0.000762, test loss: 0.000782,\n",
      "Epoch: 159, train loss: 0.000759, test loss: 0.000775,\n",
      "Epoch: 164, train loss: 0.000759, test loss: 0.000773,\n",
      "Epoch: 169, train loss: 0.000757, test loss: 0.000771,\n",
      "Epoch: 174, train loss: 0.000756, test loss: 0.000778,\n",
      "Epoch: 179, train loss: 0.000753, test loss: 0.000770,\n",
      "Epoch: 184, train loss: 0.000755, test loss: 0.000768,\n",
      "Epoch: 189, train loss: 0.000754, test loss: 0.000776,\n",
      "Epoch: 194, train loss: 0.000750, test loss: 0.000767,\n",
      "Epoch: 199, train loss: 0.000747, test loss: 0.000757,\n",
      "Epoch: 204, train loss: 0.000747, test loss: 0.000765,\n",
      "Epoch: 209, train loss: 0.000745, test loss: 0.000760,\n",
      "Epoch: 214, train loss: 0.000746, test loss: 0.000758,\n",
      "Epoch: 219, train loss: 0.000741, test loss: 0.000765,\n",
      "Epoch: 224, train loss: 0.000742, test loss: 0.000760,\n",
      "Epoch: 229, train loss: 0.000740, test loss: 0.000781,\n",
      "Epoch: 234, train loss: 0.000739, test loss: 0.000762,\n",
      "Epoch: 239, train loss: 0.000740, test loss: 0.000767,\n",
      "Epoch: 244, train loss: 0.000740, test loss: 0.000755,\n",
      "Epoch: 249, train loss: 0.000737, test loss: 0.000760,\n",
      "Epoch: 254, train loss: 0.000718, test loss: 0.000737,\n",
      "Epoch: 259, train loss: 0.000719, test loss: 0.000738,\n",
      "Epoch: 264, train loss: 0.000719, test loss: 0.000736,\n",
      "Epoch: 269, train loss: 0.000718, test loss: 0.000734,\n",
      "Epoch: 274, train loss: 0.000718, test loss: 0.000738,\n",
      "Epoch: 279, train loss: 0.000716, test loss: 0.000739,\n",
      "Epoch: 284, train loss: 0.000716, test loss: 0.000740,\n",
      "Epoch: 289, train loss: 0.000717, test loss: 0.000737,\n",
      "Epoch: 294, train loss: 0.000716, test loss: 0.000739,\n",
      "Epoch: 299, train loss: 0.000715, test loss: 0.000737,\n",
      "Epoch: 304, train loss: 0.000717, test loss: 0.000739,\n",
      "Epoch: 309, train loss: 0.000716, test loss: 0.000740,\n",
      "Epoch: 314, train loss: 0.000715, test loss: 0.000741,\n",
      "Epoch: 319, train loss: 0.000714, test loss: 0.000739,\n",
      "Epoch: 324, train loss: 0.000715, test loss: 0.000738,\n",
      "Epoch: 329, train loss: 0.000714, test loss: 0.000737,\n",
      "Epoch: 334, train loss: 0.000714, test loss: 0.000739,\n",
      "Epoch: 339, train loss: 0.000713, test loss: 0.000740,\n",
      "Epoch: 344, train loss: 0.000715, test loss: 0.000742,\n",
      "Epoch: 349, train loss: 0.000714, test loss: 0.000740,\n",
      "Epoch: 354, train loss: 0.000712, test loss: 0.000737,\n",
      "Epoch: 359, train loss: 0.000714, test loss: 0.000737,\n",
      "Epoch: 364, train loss: 0.000713, test loss: 0.000737,\n",
      "Epoch: 369, train loss: 0.000710, test loss: 0.000738,\n",
      "Epoch: 374, train loss: 0.000711, test loss: 0.000739,\n",
      "Epoch: 379, train loss: 0.000713, test loss: 0.000741,\n",
      "Epoch: 384, train loss: 0.000711, test loss: 0.000743,\n",
      "Epoch: 389, train loss: 0.000710, test loss: 0.000739,\n",
      "Epoch: 394, train loss: 0.000714, test loss: 0.000740,\n",
      "Epoch: 399, train loss: 0.000711, test loss: 0.000734,\n",
      "Epoch: 404, train loss: 0.000712, test loss: 0.000736,\n",
      "Epoch: 409, train loss: 0.000709, test loss: 0.000740,\n",
      "Epoch: 414, train loss: 0.000711, test loss: 0.000741,\n",
      "Epoch: 419, train loss: 0.000709, test loss: 0.000737,\n",
      "Epoch: 424, train loss: 0.000712, test loss: 0.000738,\n",
      "Epoch: 429, train loss: 0.000710, test loss: 0.000737,\n",
      "Epoch: 434, train loss: 0.000711, test loss: 0.000739,\n",
      "Epoch: 439, train loss: 0.000709, test loss: 0.000735,\n",
      "Epoch: 444, train loss: 0.000710, test loss: 0.000735,\n",
      "Epoch: 449, train loss: 0.000709, test loss: 0.000739,\n",
      "Epoch: 454, train loss: 0.000708, test loss: 0.000739,\n",
      "Epoch: 459, train loss: 0.000709, test loss: 0.000739,\n",
      "Epoch: 464, train loss: 0.000708, test loss: 0.000734,\n",
      "Epoch: 469, train loss: 0.000708, test loss: 0.000732,\n",
      "Epoch: 474, train loss: 0.000709, test loss: 0.000738,\n",
      "Epoch: 479, train loss: 0.000708, test loss: 0.000732,\n",
      "Epoch: 484, train loss: 0.000707, test loss: 0.000733,\n",
      "Epoch: 489, train loss: 0.000706, test loss: 0.000732,\n",
      "Epoch: 494, train loss: 0.000707, test loss: 0.000733,\n",
      "Epoch: 499, train loss: 0.000708, test loss: 0.000735,\n",
      "Epoch: 504, train loss: 0.000702, test loss: 0.000731,\n",
      "Epoch: 509, train loss: 0.000700, test loss: 0.000732,\n",
      "Epoch: 514, train loss: 0.000700, test loss: 0.000729,\n",
      "Epoch: 519, train loss: 0.000701, test loss: 0.000730,\n",
      "Epoch: 524, train loss: 0.000700, test loss: 0.000730,\n",
      "Epoch: 529, train loss: 0.000699, test loss: 0.000731,\n",
      "Epoch: 534, train loss: 0.000702, test loss: 0.000732,\n",
      "Epoch: 539, train loss: 0.000700, test loss: 0.000733,\n",
      "Epoch: 544, train loss: 0.000700, test loss: 0.000733,\n",
      "Epoch: 549, train loss: 0.000702, test loss: 0.000731,\n",
      "Epoch: 554, train loss: 0.000701, test loss: 0.000733,\n",
      "Epoch: 559, train loss: 0.000700, test loss: 0.000731,\n",
      "Epoch: 564, train loss: 0.000700, test loss: 0.000732,\n",
      "Epoch: 569, train loss: 0.000699, test loss: 0.000733,\n",
      "Epoch: 574, train loss: 0.000699, test loss: 0.000730,\n",
      "Epoch: 579, train loss: 0.000701, test loss: 0.000732,\n",
      "Epoch: 584, train loss: 0.000701, test loss: 0.000731,\n",
      "Epoch: 589, train loss: 0.000700, test loss: 0.000730,\n",
      "Epoch: 594, train loss: 0.000699, test loss: 0.000730,\n",
      "Epoch: 599, train loss: 0.000700, test loss: 0.000732,\n",
      "Epoch: 604, train loss: 0.000700, test loss: 0.000736,\n",
      "Epoch: 609, train loss: 0.000700, test loss: 0.000733,\n",
      "Epoch: 614, train loss: 0.000700, test loss: 0.000736,\n",
      "Epoch: 619, train loss: 0.000699, test loss: 0.000733,\n",
      "Epoch: 624, train loss: 0.000700, test loss: 0.000734,\n",
      "Epoch: 629, train loss: 0.000701, test loss: 0.000734,\n",
      "Epoch: 634, train loss: 0.000699, test loss: 0.000734,\n",
      "Epoch: 639, train loss: 0.000697, test loss: 0.000734,\n",
      "Epoch: 644, train loss: 0.000700, test loss: 0.000733,\n",
      "Epoch: 649, train loss: 0.000700, test loss: 0.000731,\n",
      "Epoch: 654, train loss: 0.000701, test loss: 0.000734,\n",
      "Epoch: 659, train loss: 0.000698, test loss: 0.000734,\n",
      "Epoch: 664, train loss: 0.000702, test loss: 0.000732,\n",
      "Epoch: 669, train loss: 0.000699, test loss: 0.000729,\n",
      "Epoch: 674, train loss: 0.000699, test loss: 0.000734,\n",
      "Epoch: 679, train loss: 0.000698, test loss: 0.000732,\n",
      "Epoch: 684, train loss: 0.000697, test loss: 0.000731,\n",
      "Epoch: 689, train loss: 0.000700, test loss: 0.000733,\n",
      "Epoch: 694, train loss: 0.000699, test loss: 0.000730,\n",
      "Epoch: 699, train loss: 0.000698, test loss: 0.000733,\n",
      "Epoch: 704, train loss: 0.000698, test loss: 0.000735,\n",
      "Epoch: 709, train loss: 0.000698, test loss: 0.000734,\n",
      "Epoch: 714, train loss: 0.000698, test loss: 0.000734,\n",
      "Epoch: 719, train loss: 0.000699, test loss: 0.000732,\n",
      "Epoch: 724, train loss: 0.000698, test loss: 0.000731,\n",
      "Epoch: 729, train loss: 0.000699, test loss: 0.000735,\n",
      "Epoch: 734, train loss: 0.000698, test loss: 0.000733,\n",
      "Epoch: 739, train loss: 0.000697, test loss: 0.000732,\n",
      "Epoch: 744, train loss: 0.000699, test loss: 0.000733,\n",
      "Epoch: 749, train loss: 0.000701, test loss: 0.000732,\n"
     ]
    },
    {
     "name": "stdout",
     "output_type": "stream",
     "text": [
      "Epoch: 754, train loss: 0.000697, test loss: 0.000732,\n",
      "Epoch: 759, train loss: 0.000695, test loss: 0.000730,\n",
      "Epoch: 764, train loss: 0.000697, test loss: 0.000731,\n",
      "Epoch: 769, train loss: 0.000694, test loss: 0.000731,\n",
      "Epoch: 774, train loss: 0.000695, test loss: 0.000731,\n",
      "Epoch: 779, train loss: 0.000695, test loss: 0.000732,\n",
      "Epoch: 784, train loss: 0.000697, test loss: 0.000731,\n",
      "Epoch: 789, train loss: 0.000696, test loss: 0.000732,\n",
      "Epoch: 794, train loss: 0.000696, test loss: 0.000732,\n",
      "Epoch: 799, train loss: 0.000695, test loss: 0.000731,\n",
      "Epoch: 804, train loss: 0.000695, test loss: 0.000732,\n",
      "Epoch: 809, train loss: 0.000694, test loss: 0.000733,\n",
      "Epoch: 814, train loss: 0.000696, test loss: 0.000733,\n",
      "Epoch: 819, train loss: 0.000694, test loss: 0.000732,\n",
      "Epoch: 824, train loss: 0.000696, test loss: 0.000731,\n",
      "Epoch: 829, train loss: 0.000695, test loss: 0.000732,\n",
      "Epoch: 834, train loss: 0.000697, test loss: 0.000734,\n",
      "Epoch: 839, train loss: 0.000694, test loss: 0.000730,\n",
      "Epoch: 844, train loss: 0.000697, test loss: 0.000730,\n",
      "Epoch: 849, train loss: 0.000697, test loss: 0.000731,\n",
      "Epoch: 854, train loss: 0.000695, test loss: 0.000734,\n",
      "Epoch: 859, train loss: 0.000697, test loss: 0.000732,\n",
      "Epoch: 864, train loss: 0.000695, test loss: 0.000732,\n",
      "Epoch: 869, train loss: 0.000695, test loss: 0.000733,\n",
      "Epoch: 874, train loss: 0.000695, test loss: 0.000732,\n",
      "Epoch: 879, train loss: 0.000694, test loss: 0.000734,\n",
      "Epoch: 884, train loss: 0.000696, test loss: 0.000731,\n",
      "Epoch: 889, train loss: 0.000694, test loss: 0.000730,\n",
      "Epoch: 894, train loss: 0.000695, test loss: 0.000732,\n",
      "Epoch: 899, train loss: 0.000694, test loss: 0.000731,\n",
      "Epoch: 904, train loss: 0.000696, test loss: 0.000733,\n",
      "Epoch: 909, train loss: 0.000695, test loss: 0.000731,\n",
      "Epoch: 914, train loss: 0.000695, test loss: 0.000731,\n",
      "Epoch: 919, train loss: 0.000696, test loss: 0.000732,\n",
      "Epoch: 924, train loss: 0.000695, test loss: 0.000731,\n",
      "Epoch: 929, train loss: 0.000695, test loss: 0.000731,\n",
      "Epoch: 934, train loss: 0.000694, test loss: 0.000733,\n",
      "Epoch: 939, train loss: 0.000696, test loss: 0.000732,\n",
      "Epoch: 944, train loss: 0.000694, test loss: 0.000730,\n",
      "Epoch: 949, train loss: 0.000697, test loss: 0.000730,\n",
      "Epoch: 954, train loss: 0.000695, test loss: 0.000730,\n",
      "Epoch: 959, train loss: 0.000695, test loss: 0.000736,\n",
      "Epoch: 964, train loss: 0.000695, test loss: 0.000735,\n",
      "Epoch: 969, train loss: 0.000695, test loss: 0.000730,\n",
      "Epoch: 974, train loss: 0.000695, test loss: 0.000732,\n",
      "Epoch: 979, train loss: 0.000694, test loss: 0.000733,\n",
      "Epoch: 984, train loss: 0.000695, test loss: 0.000732,\n",
      "Epoch: 989, train loss: 0.000695, test loss: 0.000733,\n",
      "Epoch: 994, train loss: 0.000694, test loss: 0.000733,\n",
      "Epoch: 999, train loss: 0.000695, test loss: 0.000732,\n"
     ]
    }
   ],
   "source": [
    "if load is False:\n",
    "    for e in range(epochs):\n",
    "        train_loss_cum_sum = 0\n",
    "        iters_per_epoch = 0\n",
    "        for train_data_ in train_data_loader:\n",
    "            train_data_ = train_data_[0].to(device)\n",
    "            prediction = net(train_data_)\n",
    "            loss = loss_func(torch.log(prediction), train_data_)\n",
    "            train_loss = loss.item()\n",
    "            optimizer.zero_grad()\n",
    "            loss.backward()\n",
    "            optimizer.step()\n",
    "            \n",
    "            train_loss_cum_sum += train_loss\n",
    "            iters_per_epoch += 1\n",
    "        \n",
    "\n",
    "        if (e+1)%5 == 0:\n",
    "            net.eval()\n",
    "            test_pred = net(test_data)\n",
    "            loss = loss_func(torch.log(test_pred), test_data)\n",
    "            test_loss = loss.item()\n",
    "\n",
    "            print(\"Epoch: {:d}, train loss: {:f}, test loss: {:f},\"\n",
    "                  .format(e, train_loss_cum_sum/iters_per_epoch, test_loss))\n",
    "            net.train();\n",
    "                \n",
    "        scheduler.step()\n",
    "        \n",
    "    if save is True:\n",
    "        torch.save(net.state_dict(), \"model/nn_resampler.model\")\n",
    "else:\n",
    "    net.load_state_dict(torch.load(\"model/nn_resampler.model\"))\n",
    "\n",
    "net.eval();"
   ]
  },
  {
   "cell_type": "code",
   "execution_count": 30,
   "metadata": {
    "scrolled": true
   },
   "outputs": [
    {
     "data": {
      "image/png": "[encoded data removed]",
      "text/plain": [
       "<Figure size 432x288 with 1 Axes>"
      ]
     },
     "metadata": {
      "needs_background": "light"
     },
     "output_type": "display_data"
    },
    {
     "data": {
      "image/png": "[encoded data removed]",
      "text/plain": [
       "<Figure size 432x288 with 1 Axes>"
      ]
     },
     "metadata": {
      "needs_background": "light"
     },
     "output_type": "display_data"
    },
    {
     "data": {
      "image/png": "[encoded data removed]",
      "text/plain": [
       "<Figure size 432x288 with 1 Axes>"
      ]
     },
     "metadata": {
      "needs_background": "light"
     },
     "output_type": "display_data"
    },
    {
     "data": {
      "image/png": "[encoded data removed]",
      "text/plain": [
       "<Figure size 432x288 with 1 Axes>"
      ]
     },
     "metadata": {
      "needs_background": "light"
     },
     "output_type": "display_data"
    },
    {
     "data": {
      "image/png": "[encoded data removed]",
      "text/plain": [
       "<Figure size 432x288 with 1 Axes>"
      ]
     },
     "metadata": {
      "needs_background": "light"
     },
     "output_type": "display_data"
    },
    {
     "data": {
      "image/png": "[encoded data removed]",
      "text/plain": [
       "<Figure size 432x288 with 1 Axes>"
      ]
     },
     "metadata": {
      "needs_background": "light"
     },
     "output_type": "display_data"
    },
    {
     "data": {
      "image/png": "[encoded data removed]",
      "text/plain": [
       "<Figure size 432x288 with 1 Axes>"
      ]
     },
     "metadata": {
      "needs_background": "light"
     },
     "output_type": "display_data"
    },
    {
     "data": {
      "image/png": "[encoded data removed]",
      "text/plain": [
       "<Figure size 432x288 with 1 Axes>"
      ]
     },
     "metadata": {
      "needs_background": "light"
     },
     "output_type": "display_data"
    },
    {
     "data": {
      "image/png": "[encoded data removed]",
      "text/plain": [
       "<Figure size 432x288 with 1 Axes>"
      ]
     },
     "metadata": {
      "needs_background": "light"
     },
     "output_type": "display_data"
    },
    {
     "data": {
      "image/png": "[encoded data removed]",
      "text/plain": [
       "<Figure size 432x288 with 1 Axes>"
      ]
     },
     "metadata": {
      "needs_background": "light"
     },
     "output_type": "display_data"
    }
   ],
   "source": [
    "# test on poor phase estimation data\n",
    "poor_test_pred = net(poor_bins_val)\n",
    "\n",
    "for i in range(len(poor_test_pred)):\n",
    "    test_edges = poor_edges_val[i]\n",
    "    edge_width = test_edges[1] - test_edges[0]\n",
    "\n",
    "    plt.bar(test_edges, poor_bins_val[i].cpu(), align='center', width = edge_width)\n",
    "    plt.bar(test_edges, poor_test_pred[i].detach().cpu(), align='center', width = edge_width, alpha=0.7)\n",
    "    plt.show() \n",
    "    "
   ]
  },
  {
   "cell_type": "code",
   "execution_count": 33,
   "metadata": {
    "scrolled": true
   },
   "outputs": [
    {
     "data": {
      "image/png": "[encoded data removed]",
      "text/plain": [
       "<Figure size 432x288 with 1 Axes>"
      ]
     },
     "metadata": {
      "needs_background": "light"
     },
     "output_type": "display_data"
    },
    {
     "data": {
      "image/png": "[encoded data removed]",
      "text/plain": [
       "<Figure size 432x288 with 1 Axes>"
      ]
     },
     "metadata": {
      "needs_background": "light"
     },
     "output_type": "display_data"
    },
    {
     "data": {
      "image/png": "[encoded data removed]",
      "text/plain": [
       "<Figure size 432x288 with 1 Axes>"
      ]
     },
     "metadata": {
      "needs_background": "light"
     },
     "output_type": "display_data"
    },
    {
     "data": {
      "image/png": "[encoded data removed]",
      "text/plain": [
       "<Figure size 432x288 with 1 Axes>"
      ]
     },
     "metadata": {
      "needs_background": "light"
     },
     "output_type": "display_data"
    },
    {
     "data": {
      "image/png": "[encoded data removed]",
      "text/plain": [
       "<Figure size 432x288 with 1 Axes>"
      ]
     },
     "metadata": {
      "needs_background": "light"
     },
     "output_type": "display_data"
    },
    {
     "data": {
      "image/png": "[encoded data removed]",
      "text/plain": [
       "<Figure size 432x288 with 1 Axes>"
      ]
     },
     "metadata": {
      "needs_background": "light"
     },
     "output_type": "display_data"
    },
    {
     "data": {
      "image/png": "[encoded data removed]",
      "text/plain": [
       "<Figure size 432x288 with 1 Axes>"
      ]
     },
     "metadata": {
      "needs_background": "light"
     },
     "output_type": "display_data"
    },
    {
     "data": {
      "image/png": "[encoded data removed]",
      "text/plain": [
       "<Figure size 432x288 with 1 Axes>"
      ]
     },
     "metadata": {
      "needs_background": "light"
     },
     "output_type": "display_data"
    },
    {
     "data": {
      "image/png": "[encoded data removed]",
      "text/plain": [
       "<Figure size 432x288 with 1 Axes>"
      ]
     },
     "metadata": {
      "needs_background": "light"
     },
     "output_type": "display_data"
    },
    {
     "data": {
      "image/png": "[encoded data removed]",
      "text/plain": [
       "<Figure size 432x288 with 1 Axes>"
      ]
     },
     "metadata": {
      "needs_background": "light"
     },
     "output_type": "display_data"
    }
   ],
   "source": [
    "# test on good phase estimation data\n",
    "good_test_pred = net(good_bins_val)\n",
    "\n",
    "for i in range(len(poor_test_pred)):\n",
    "    test_edges = good_edges_val[i]\n",
    "    edge_width = test_edges[1] - test_edges[0]\n",
    "\n",
    "    plt.bar(test_edges, good_bins_val[i].cpu(), align='center', width = edge_width)\n",
    "    plt.bar(test_edges, good_test_pred[i].detach().cpu(), align='center', width = edge_width, alpha=0.7)\n",
    "    plt.show() \n",
    "    "
   ]
  },
  {
   "cell_type": "code",
   "execution_count": null,
   "metadata": {},
   "outputs": [],
   "source": []
  }
 ],
 "metadata": {
  "kernelspec": {
   "display_name": "Python 3",
   "language": "python",
   "name": "python3"
  },
  "language_info": {
   "codemirror_mode": {
    "name": "ipython",
    "version": 3
   },
   "file_extension": ".py",
   "mimetype": "text/x-python",
   "name": "python",
   "nbconvert_exporter": "python",
   "pygments_lexer": "ipython3",
   "version": "3.8.3"
  }
 },
 "nbformat": 4,
 "nbformat_minor": 4
}
