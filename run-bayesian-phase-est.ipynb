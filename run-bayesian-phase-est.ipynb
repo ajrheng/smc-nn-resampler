{
 "cells": [
  {
   "cell_type": "code",
   "execution_count": 1,
   "metadata": {},
   "outputs": [
    {
     "name": "stdout",
     "output_type": "stream",
     "text": [
      "cuda:0\n"
     ]
    }
   ],
   "source": [
    "import torch\n",
    "import math\n",
    "import torch.nn as nn\n",
    "import torch.nn.functional as F\n",
    "import numpy as np\n",
    "import torch.optim as optim\n",
    "import matplotlib.pyplot as plt\n",
    "import scipy.stats\n",
    "from tqdm import tqdm\n",
    "\n",
    "device = torch.device(\"cuda:0\" if torch.cuda.is_available() else \"cpu\")\n",
    "print(device)"
   ]
  },
  {
   "cell_type": "code",
   "execution_count": 2,
   "metadata": {},
   "outputs": [],
   "source": [
    "from nn_resampler import nn_resampler\n",
    "from phase_est_smc import phase_est_smc"
   ]
  },
  {
   "cell_type": "code",
   "execution_count": 3,
   "metadata": {},
   "outputs": [
    {
     "data": {
      "text/plain": [
       "nn_resampler(\n",
       "  (enc1): Linear(in_features=100, out_features=50, bias=True)\n",
       "  (enc2): Linear(in_features=50, out_features=25, bias=True)\n",
       "  (enc3): Linear(in_features=25, out_features=10, bias=True)\n",
       "  (dec1): Linear(in_features=10, out_features=25, bias=True)\n",
       "  (dec2): Linear(in_features=25, out_features=50, bias=True)\n",
       "  (dec3): Linear(in_features=50, out_features=100, bias=True)\n",
       "  (bn_enc1): BatchNorm1d(50, eps=1e-05, momentum=0.1, affine=True, track_running_stats=True)\n",
       "  (bn_enc2): BatchNorm1d(25, eps=1e-05, momentum=0.1, affine=True, track_running_stats=True)\n",
       "  (bn_enc3): BatchNorm1d(10, eps=1e-05, momentum=0.1, affine=True, track_running_stats=True)\n",
       "  (bn_dec1): BatchNorm1d(25, eps=1e-05, momentum=0.1, affine=True, track_running_stats=True)\n",
       "  (bn_dec2): BatchNorm1d(50, eps=1e-05, momentum=0.1, affine=True, track_running_stats=True)\n",
       ")"
      ]
     },
     "execution_count": 3,
     "metadata": {},
     "output_type": "execute_result"
    }
   ],
   "source": [
    "net = nn_resampler(100,100)\n",
    "#net = net.to(device)\n",
    "net.load_state_dict(torch.load(\"net_bn_aft_relu.model\"))\n",
    "net.eval()"
   ]
  },
  {
   "cell_type": "code",
   "execution_count": 4,
   "metadata": {},
   "outputs": [],
   "source": [
    "num_particles = 100 # number of SMC particles (num of w points)\n",
    "num_samples = 10000 # number of samples to draw from the particle distribution (to be binned)\n",
    "num_bins = 100 # number of bins\n",
    "n_iters = 100 # number of iterations of resampling"
   ]
  },
  {
   "cell_type": "markdown",
   "metadata": {},
   "source": [
    "## NN Resampler"
   ]
  },
  {
   "cell_type": "code",
   "execution_count": 5,
   "metadata": {
    "scrolled": true
   },
   "outputs": [
    {
     "name": "stdout",
     "output_type": "stream",
     "text": [
      "True omega: 5.532031, prediction by SMC: 5.532031\n",
      "True omega: 6.069187, prediction by SMC: 5.359994\n",
      "True omega: 4.581181, prediction by SMC: 4.581181\n",
      "True omega: 0.390340, prediction by SMC: 0.653454\n",
      "True omega: 5.935103, prediction by SMC: 5.935103\n",
      "True omega: 6.195464, prediction by SMC: 6.195464\n",
      "True omega: 4.199959, prediction by SMC: 4.199959\n",
      "True omega: 3.640833, prediction by SMC: 3.640833\n",
      "True omega: 3.588375, prediction by SMC: 3.588375\n",
      "True omega: 0.213626, prediction by SMC: 0.213626\n",
      "True omega: 2.775813, prediction by SMC: 2.775813\n",
      "True omega: 6.138574, prediction by SMC: 6.138572\n",
      "True omega: 5.356662, prediction by SMC: 5.356662\n",
      "True omega: 3.770662, prediction by SMC: 3.770662\n",
      "True omega: 3.514182, prediction by SMC: 3.514182\n",
      "True omega: 0.900441, prediction by SMC: 0.900408\n",
      "True omega: 5.882085, prediction by SMC: 5.882085\n",
      "True omega: 5.171723, prediction by SMC: 5.171723\n",
      "True omega: 2.999521, prediction by SMC: 2.999521\n",
      "True omega: 3.721778, prediction by SMC: 3.721778\n",
      "True omega: 0.934340, prediction by SMC: 0.934340\n",
      "True omega: 1.371724, prediction by SMC: 1.371724\n",
      "True omega: 4.916511, prediction by SMC: 4.916513\n",
      "True omega: 0.023419, prediction by SMC: 0.834294\n",
      "True omega: 3.799620, prediction by SMC: 3.799620\n",
      "True omega: 0.098966, prediction by SMC: 0.676269\n",
      "True omega: 1.356945, prediction by SMC: 1.356945\n",
      "True omega: 0.967730, prediction by SMC: 0.967730\n",
      "True omega: 3.201784, prediction by SMC: 3.201784\n",
      "True omega: 5.389177, prediction by SMC: 5.218214\n",
      "True omega: 1.755274, prediction by SMC: 1.755274\n",
      "True omega: 0.125414, prediction by SMC: 0.125414\n",
      "True omega: 0.652513, prediction by SMC: 0.687938\n",
      "True omega: 4.131706, prediction by SMC: 4.131705\n",
      "True omega: 5.764668, prediction by SMC: 5.764667\n",
      "True omega: 6.197604, prediction by SMC: 6.197604\n",
      "True omega: 6.194314, prediction by SMC: 6.194314\n",
      "True omega: 5.542873, prediction by SMC: 5.542872\n",
      "True omega: 3.743990, prediction by SMC: 3.743990\n",
      "True omega: 1.273042, prediction by SMC: 1.273042\n",
      "True omega: 1.760602, prediction by SMC: 1.760602\n",
      "True omega: 3.497595, prediction by SMC: 3.497595\n",
      "True omega: 3.160048, prediction by SMC: 3.160047\n",
      "True omega: 1.785896, prediction by SMC: 1.785896\n",
      "True omega: 1.158820, prediction by SMC: 1.158820\n",
      "True omega: 0.437574, prediction by SMC: 0.437574\n",
      "True omega: 2.723073, prediction by SMC: 2.723073\n",
      "True omega: 3.656547, prediction by SMC: 3.656547\n",
      "True omega: 1.958257, prediction by SMC: 1.958257\n",
      "True omega: 5.244429, prediction by SMC: 5.244429\n",
      "True omega: 2.396802, prediction by SMC: 2.396802\n",
      "True omega: 1.302436, prediction by SMC: 1.302436\n",
      "True omega: 2.571724, prediction by SMC: 2.571724\n",
      "True omega: 1.332143, prediction by SMC: 1.332143\n",
      "True omega: 3.582811, prediction by SMC: 3.582810\n",
      "True omega: 0.819843, prediction by SMC: 0.819843\n",
      "True omega: 0.294179, prediction by SMC: 0.294179\n",
      "True omega: 2.266805, prediction by SMC: 2.266805\n",
      "True omega: 4.388963, prediction by SMC: 4.388963\n",
      "True omega: 1.475574, prediction by SMC: 1.475574\n",
      "True omega: 1.305802, prediction by SMC: 1.305801\n",
      "True omega: 0.566985, prediction by SMC: 0.566985\n",
      "True omega: 4.935984, prediction by SMC: 4.935984\n",
      "True omega: 5.106354, prediction by SMC: 5.106354\n",
      "True omega: 0.690900, prediction by SMC: 0.690900\n",
      "True omega: 0.875577, prediction by SMC: 0.875577\n",
      "True omega: 4.856292, prediction by SMC: 4.856292\n",
      "True omega: 2.754249, prediction by SMC: 2.754249\n",
      "True omega: 4.582207, prediction by SMC: 4.582205\n",
      "True omega: 6.098055, prediction by SMC: 5.918319\n",
      "True omega: 1.189420, prediction by SMC: 1.189420\n",
      "True omega: 0.904326, prediction by SMC: 0.904326\n",
      "True omega: 2.132289, prediction by SMC: 2.132289\n",
      "True omega: 6.187165, prediction by SMC: 6.187163\n",
      "True omega: 4.243946, prediction by SMC: 4.243946\n",
      "True omega: 5.389769, prediction by SMC: 5.389769\n",
      "True omega: 3.104195, prediction by SMC: 3.104195\n",
      "True omega: 4.397352, prediction by SMC: 4.397351\n",
      "True omega: 5.216113, prediction by SMC: 5.216113\n",
      "True omega: 4.982396, prediction by SMC: 4.982395\n",
      "True omega: 0.345856, prediction by SMC: 0.345856\n",
      "True omega: 4.978034, prediction by SMC: 4.978003\n",
      "True omega: 3.935641, prediction by SMC: 3.935641\n",
      "True omega: 2.231438, prediction by SMC: 2.231438\n",
      "True omega: 0.739129, prediction by SMC: 0.739129\n",
      "True omega: 1.794288, prediction by SMC: 1.794288\n",
      "True omega: 4.965671, prediction by SMC: 4.965671\n",
      "True omega: 1.893061, prediction by SMC: 1.893061\n",
      "True omega: 1.339157, prediction by SMC: 1.339157\n",
      "True omega: 0.423200, prediction by SMC: 0.423200\n",
      "True omega: 4.125505, prediction by SMC: 4.125504\n",
      "True omega: 0.024101, prediction by SMC: 0.024101\n",
      "True omega: 1.563141, prediction by SMC: 1.563141\n",
      "True omega: 1.993209, prediction by SMC: 1.993209\n",
      "True omega: 1.159251, prediction by SMC: 1.159251\n",
      "True omega: 0.420831, prediction by SMC: 0.761435\n",
      "True omega: 0.556241, prediction by SMC: 0.557339\n",
      "True omega: 5.229196, prediction by SMC: 5.229196\n",
      "True omega: 2.883793, prediction by SMC: 2.883793\n",
      "True omega: 5.995268, prediction by SMC: 5.995268\n"
     ]
    }
   ],
   "source": [
    "omega_star_list = []\n",
    "nn_pred_list = []\n",
    "\n",
    "for i in range(n_iters): \n",
    "    t0 = 0.1\n",
    "    omega_star = np.random.uniform() * 2 * np.pi\n",
    "    omega_star_list.append(omega_star)\n",
    "    smc = phase_est_smc(omega_star, t0)\n",
    "    smc.init_particles(num_particles)\n",
    "    running_est = []\n",
    "\n",
    "    while True:\n",
    "\n",
    "        particle_pos, particle_wgts = smc.particles(threshold=num_particles/5, num_measurements=1)\n",
    "        data = np.random.choice(particle_pos, size = num_samples, p=particle_wgts)\n",
    "        mean = np.mean(data)\n",
    "        std = np.std(data)\n",
    "        data = (data-mean)/std\n",
    "        bins, edges = np.histogram(data, num_bins)\n",
    "        bins = bins/num_samples\n",
    "\n",
    "        nn_pred = net(torch.tensor(bins).float().unsqueeze(0)) ## convert to float tensor, then make dim [1, num_bins]\n",
    "\n",
    "        smc.nn_resample(nn_pred.detach().numpy(), edges, mean, std)\n",
    "\n",
    "    #     edges_ = edges[:-1]\n",
    "    #     edge_width = edges_[1] - edges_[0]\n",
    "\n",
    "    #     plt.bar(edges_*std + mean, bins, align='edge', width = edge_width)\n",
    "    #     plt.bar(edges_*std + mean, nn_pred[0].detach().numpy(), align='edge', width = edge_width, alpha=0.7)\n",
    "    #     plt.show() \n",
    "        curr_omega_est = smc.particle_pos[np.argmax(smc.particle_wgts)]\n",
    "        running_est.append(curr_omega_est)\n",
    "        \n",
    "        if len(running_est) > 10:\n",
    "            last_10 = running_est[-10:]\n",
    "            # np.allclose(a,b) returns true if every element in a and b are equal to a tolerance\n",
    "            # np.full_like makes an array with shake of last_10 with every element being last_10[0]\n",
    "            # if all elements of last_10 are equal then they should all equal the first element\n",
    "            if np.allclose(last_10, np.full_like(last_10, last_10[0])):\n",
    "                break\n",
    "                \n",
    "    print(\"True omega: {:f}, prediction by SMC: {:f}\".format(omega_star,curr_omega_est))\n",
    "    nn_pred_list.append(curr_omega_est)\n"
   ]
  },
  {
   "cell_type": "code",
   "execution_count": 6,
   "metadata": {},
   "outputs": [
    {
     "name": "stdout",
     "output_type": "stream",
     "text": [
      "0.017417795820513143\n"
     ]
    }
   ],
   "source": [
    "nn_mse = np.mean( (np.array(omega_star_list) - np.array(nn_pred_list))**2 )\n",
    "print(nn_mse)"
   ]
  },
  {
   "cell_type": "markdown",
   "metadata": {},
   "source": [
    "## Liu-West resampler"
   ]
  },
  {
   "cell_type": "code",
   "execution_count": 7,
   "metadata": {
    "scrolled": true
   },
   "outputs": [
    {
     "name": "stdout",
     "output_type": "stream",
     "text": [
      "True omega: 1.021260, prediction by LW: 1.021260\n",
      "True omega: 3.595277, prediction by LW: 3.595277\n",
      "True omega: 0.711463, prediction by LW: 0.711463\n",
      "True omega: 2.952453, prediction by LW: 2.952453\n",
      "True omega: 1.740761, prediction by LW: 1.740761\n",
      "True omega: 4.276262, prediction by LW: 4.276262\n",
      "True omega: 1.225911, prediction by LW: 1.225911\n",
      "True omega: 0.980640, prediction by LW: 0.980640\n",
      "True omega: 1.921498, prediction by LW: 1.921497\n",
      "True omega: 1.047306, prediction by LW: 1.047306\n",
      "True omega: 5.318141, prediction by LW: 5.318142\n",
      "True omega: 0.139604, prediction by LW: 0.139603\n",
      "True omega: 5.685974, prediction by LW: 5.685974\n",
      "True omega: 5.115761, prediction by LW: 5.115761\n",
      "True omega: 2.259481, prediction by LW: 2.259481\n",
      "True omega: 2.357117, prediction by LW: 2.357117\n",
      "True omega: 2.322564, prediction by LW: 2.322564\n",
      "True omega: 6.126307, prediction by LW: 6.126307\n",
      "True omega: 3.299778, prediction by LW: 3.299778\n",
      "True omega: 4.152168, prediction by LW: 3.939171\n",
      "True omega: 1.459916, prediction by LW: 1.459793\n",
      "True omega: 3.081849, prediction by LW: 3.081849\n",
      "True omega: 1.862734, prediction by LW: 1.862734\n",
      "True omega: 0.833717, prediction by LW: 0.833717\n",
      "True omega: 0.914490, prediction by LW: 0.914490\n",
      "True omega: 0.231715, prediction by LW: 0.231716\n",
      "True omega: 0.181916, prediction by LW: 0.181916\n",
      "True omega: 3.830819, prediction by LW: 3.830819\n",
      "True omega: 6.199864, prediction by LW: 6.199865\n",
      "True omega: 3.100162, prediction by LW: 3.100162\n",
      "True omega: 1.945379, prediction by LW: 1.945379\n",
      "True omega: 5.385301, prediction by LW: 5.385301\n",
      "True omega: 4.564642, prediction by LW: 4.564642\n",
      "True omega: 2.572906, prediction by LW: 2.572906\n",
      "True omega: 3.313421, prediction by LW: 3.313421\n",
      "True omega: 5.312385, prediction by LW: 5.312385\n",
      "True omega: 1.427506, prediction by LW: 1.427506\n",
      "True omega: 2.187812, prediction by LW: 2.187812\n",
      "True omega: 2.177723, prediction by LW: 2.177723\n",
      "True omega: 5.243012, prediction by LW: 5.243012\n",
      "True omega: 5.994655, prediction by LW: 5.994655\n",
      "True omega: 1.199729, prediction by LW: 1.199728\n",
      "True omega: 0.623297, prediction by LW: 0.623297\n",
      "True omega: 1.882115, prediction by LW: 1.882115\n",
      "True omega: 5.492310, prediction by LW: 5.492310\n",
      "True omega: 0.545507, prediction by LW: 0.545507\n",
      "True omega: 2.775969, prediction by LW: 2.775969\n",
      "True omega: 5.820179, prediction by LW: 5.820179\n",
      "True omega: 1.171201, prediction by LW: 1.171201\n",
      "True omega: 5.115814, prediction by LW: 5.115814\n",
      "True omega: 0.632201, prediction by LW: 0.632201\n",
      "True omega: 0.401338, prediction by LW: 0.401338\n",
      "True omega: 2.441005, prediction by LW: 2.441005\n",
      "True omega: 4.136460, prediction by LW: 4.136460\n",
      "True omega: 3.684925, prediction by LW: 3.684925\n",
      "True omega: 4.074043, prediction by LW: 4.074043\n",
      "True omega: 5.200509, prediction by LW: 5.200508\n",
      "True omega: 4.118435, prediction by LW: 4.118435\n",
      "True omega: 1.396204, prediction by LW: 1.396204\n",
      "True omega: 2.826965, prediction by LW: 2.826965\n",
      "True omega: 2.475896, prediction by LW: 2.475896\n",
      "True omega: 1.344996, prediction by LW: 1.344996\n",
      "True omega: 4.340112, prediction by LW: 4.340112\n",
      "True omega: 4.835751, prediction by LW: 4.835751\n",
      "True omega: 1.069858, prediction by LW: 1.069858\n",
      "True omega: 3.051296, prediction by LW: 3.051296\n",
      "True omega: 0.899209, prediction by LW: 0.899209\n",
      "True omega: 3.829746, prediction by LW: 3.829746\n",
      "True omega: 0.531795, prediction by LW: 0.531795\n",
      "True omega: 5.328487, prediction by LW: 5.328487\n",
      "True omega: 1.136886, prediction by LW: 1.136886\n",
      "True omega: 4.702697, prediction by LW: 4.702697\n",
      "True omega: 0.413874, prediction by LW: 0.413874\n",
      "True omega: 5.863187, prediction by LW: 5.863187\n",
      "True omega: 1.255735, prediction by LW: 1.255735\n",
      "True omega: 4.994058, prediction by LW: 4.994058\n",
      "True omega: 1.961459, prediction by LW: 1.961459\n",
      "True omega: 0.535088, prediction by LW: 0.535088\n",
      "True omega: 5.327638, prediction by LW: 5.327638\n",
      "True omega: 2.058741, prediction by LW: 2.058741\n",
      "True omega: 2.197905, prediction by LW: 2.197905\n",
      "True omega: 2.180609, prediction by LW: 2.180609\n",
      "True omega: 1.205855, prediction by LW: 1.205855\n",
      "True omega: 2.632106, prediction by LW: 2.632106\n",
      "True omega: 1.027414, prediction by LW: 1.027414\n",
      "True omega: 4.190976, prediction by LW: 4.190975\n",
      "True omega: 0.215420, prediction by LW: 0.215420\n",
      "True omega: 3.893817, prediction by LW: 3.893817\n",
      "True omega: 3.639422, prediction by LW: 3.639422\n",
      "True omega: 3.377184, prediction by LW: 3.377184\n",
      "True omega: 4.014038, prediction by LW: 4.014038\n",
      "True omega: 1.425417, prediction by LW: 1.425417\n",
      "True omega: 3.358584, prediction by LW: 3.358584\n",
      "True omega: 3.742540, prediction by LW: 3.742541\n",
      "True omega: 0.566054, prediction by LW: 0.566054\n",
      "True omega: 0.200638, prediction by LW: 0.200638\n",
      "True omega: 3.348912, prediction by LW: 3.348912\n",
      "True omega: 3.176819, prediction by LW: 3.176819\n",
      "True omega: 4.557511, prediction by LW: 4.557511\n",
      "True omega: 3.776322, prediction by LW: 3.776322\n"
     ]
    }
   ],
   "source": [
    "omega_star_list = []\n",
    "lw_pred_list = []\n",
    "\n",
    "for i in range(n_iters): \n",
    "    t0 = 0.1\n",
    "    omega_star = np.random.uniform() * 2 * np.pi\n",
    "    omega_star_list.append(omega_star)\n",
    "    smc = phase_est_smc(omega_star, t0)\n",
    "    smc.init_particles(num_particles)\n",
    "    running_est = []\n",
    "\n",
    "    while True:\n",
    "\n",
    "        smc.particles(threshold=num_particles/5, num_measurements=1)\n",
    "        smc.liu_west_resample()\n",
    "        \n",
    "        if smc.lw_break_flag is True:\n",
    "            break\n",
    "        \n",
    "        curr_omega_est = smc.particle_pos[np.argmax(smc.particle_wgts)]\n",
    "        running_est.append(curr_omega_est)\n",
    "        \n",
    "        if len(running_est) > 5:\n",
    "            last_5 = running_est[-5:]\n",
    "            # np.allclose(a,b) returns true if every element in a and b are equal to a tolerance\n",
    "            # np.full_like makes an array with shake of last_10 with every element being last_10[0]\n",
    "            # if all elements of last_10 are equal then they should all equal the first element\n",
    "            if np.allclose(last_5, np.full_like(last_5, last_5[0])):\n",
    "                break\n",
    "                \n",
    "    print(\"True omega: {:f}, prediction by LW: {:f}\".format(omega_star,curr_omega_est))\n",
    "    lw_pred_list.append(curr_omega_est)"
   ]
  },
  {
   "cell_type": "code",
   "execution_count": 8,
   "metadata": {},
   "outputs": [
    {
     "name": "stdout",
     "output_type": "stream",
     "text": [
      "0.00045367616538141253\n"
     ]
    }
   ],
   "source": [
    "lw_mse = np.mean( (np.array(omega_star_list) - np.array(lw_pred_list))**2 )\n",
    "print(lw_mse)"
   ]
  }
 ],
 "metadata": {
  "kernelspec": {
   "display_name": "Python 3",
   "language": "python",
   "name": "python3"
  },
  "language_info": {
   "codemirror_mode": {
    "name": "ipython",
    "version": 3
   },
   "file_extension": ".py",
   "mimetype": "text/x-python",
   "name": "python",
   "nbconvert_exporter": "python",
   "pygments_lexer": "ipython3",
   "version": "3.8.3"
  }
 },
 "nbformat": 4,
 "nbformat_minor": 4
}
