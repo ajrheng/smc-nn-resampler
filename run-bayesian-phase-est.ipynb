{
 "cells": [
  {
   "cell_type": "code",
   "execution_count": 88,
   "metadata": {},
   "outputs": [
    {
     "name": "stdout",
     "output_type": "stream",
     "text": [
      "cuda:0\n"
     ]
    }
   ],
   "source": [
    "import torch\n",
    "import math\n",
    "import torch.nn as nn\n",
    "import torch.nn.functional as F\n",
    "import numpy as np\n",
    "import torch.optim as optim\n",
    "import matplotlib.pyplot as plt\n",
    "import scipy.stats\n",
    "from tqdm import tqdm\n",
    "\n",
    "device = torch.device(\"cuda:0\" if torch.cuda.is_available() else \"cpu\")\n",
    "print(device)"
   ]
  },
  {
   "cell_type": "code",
   "execution_count": 89,
   "metadata": {},
   "outputs": [],
   "source": [
    "from nn_resampler import nn_resampler\n",
    "from phase_est_smc import phase_est_smc"
   ]
  },
  {
   "cell_type": "code",
   "execution_count": 90,
   "metadata": {},
   "outputs": [],
   "source": [
    "num_particles = 100 # number of SMC particles (num of w points)\n",
    "num_samples = 10000 # number of samples to draw from the particle distribution (to be binned)\n",
    "num_bins = 100 # number of bins\n",
    "n_iters = 100 # number of different omega*\n",
    "t0 = 10 # starting time\n",
    "max_iters = 50 # maximum number of iterations before breaking"
   ]
  },
  {
   "cell_type": "code",
   "execution_count": 91,
   "metadata": {},
   "outputs": [],
   "source": [
    "net = nn_resampler(num_bins,num_bins)\n",
    "net.load_state_dict(torch.load(\"model/nn_resampler.model\"))\n",
    "net.eval();"
   ]
  },
  {
   "cell_type": "markdown",
   "metadata": {},
   "source": [
    "## NN Resampler"
   ]
  },
  {
   "cell_type": "code",
   "execution_count": 92,
   "metadata": {
    "scrolled": true
   },
   "outputs": [
    {
     "name": "stdout",
     "output_type": "stream",
     "text": [
      "True omega: -0.007812, prediction by NN: 0.644548, num of resample calls: 10\n",
      "True omega: 0.313978, prediction by NN: 1.588010, num of resample calls: 10. Failed\n",
      "True omega: 2.269441, prediction by NN: -1.883799, num of resample calls: 9. Failed\n",
      "True omega: 2.384617, prediction by NN: 2.281419, num of resample calls: 11\n",
      "True omega: 2.206056, prediction by NN: -1.373404, num of resample calls: 10. Failed\n",
      "True omega: -2.876719, prediction by NN: -1.448141, num of resample calls: 10. Failed\n",
      "True omega: 0.809347, prediction by NN: 0.583875, num of resample calls: 10\n",
      "True omega: -0.703962, prediction by NN: -1.314797, num of resample calls: 11\n",
      "True omega: 2.794043, prediction by NN: -0.842224, num of resample calls: 9. Failed\n",
      "True omega: -0.936191, prediction by NN: -1.484383, num of resample calls: 10\n",
      "True omega: -3.060279, prediction by NN: -3.060380, num of resample calls: 7\n",
      "True omega: -2.423547, prediction by NN: -1.811211, num of resample calls: 10\n",
      "True omega: -3.068746, prediction by NN: 2.244725, num of resample calls: 10. Failed\n",
      "True omega: -1.402517, prediction by NN: 0.858390, num of resample calls: 10. Failed\n",
      "True omega: 1.084898, prediction by NN: -2.490152, num of resample calls: 11. Failed\n",
      "True omega: -1.554100, prediction by NN: -1.569372, num of resample calls: 10\n",
      "True omega: 2.887486, prediction by NN: 2.895953, num of resample calls: 9\n",
      "True omega: -1.137001, prediction by NN: 0.549605, num of resample calls: 10. Failed\n",
      "True omega: -1.880659, prediction by NN: -1.872290, num of resample calls: 9\n",
      "True omega: -1.209618, prediction by NN: 2.767337, num of resample calls: 10. Failed\n",
      "True omega: 1.696446, prediction by NN: 1.824794, num of resample calls: 10\n",
      "True omega: 2.186631, prediction by NN: 2.278675, num of resample calls: 11\n",
      "True omega: 2.957219, prediction by NN: -1.656846, num of resample calls: 9. Failed\n",
      "True omega: -0.600050, prediction by NN: 1.631470, num of resample calls: 10. Failed\n",
      "True omega: 2.132814, prediction by NN: 2.203538, num of resample calls: 8\n",
      "True omega: 0.279610, prediction by NN: -0.155458, num of resample calls: 10\n",
      "True omega: 0.314001, prediction by NN: 0.559840, num of resample calls: 10\n",
      "True omega: 0.630680, prediction by NN: 0.380846, num of resample calls: 10\n",
      "True omega: -2.121891, prediction by NN: -1.955322, num of resample calls: 10\n",
      "True omega: 1.615070, prediction by NN: -1.230648, num of resample calls: 10. Failed\n",
      "True omega: 1.435855, prediction by NN: 1.491089, num of resample calls: 11\n",
      "True omega: 0.955430, prediction by NN: -0.812667, num of resample calls: 9. Failed\n",
      "True omega: 2.390246, prediction by NN: 0.040531, num of resample calls: 10. Failed\n",
      "True omega: -0.603556, prediction by NN: 2.601189, num of resample calls: 10. Failed\n",
      "True omega: 2.972527, prediction by NN: 0.915599, num of resample calls: 10. Failed\n",
      "True omega: -2.903082, prediction by NN: 0.161769, num of resample calls: 10. Failed\n",
      "True omega: -0.409684, prediction by NN: -0.707480, num of resample calls: 10\n",
      "True omega: -0.622743, prediction by NN: -0.687654, num of resample calls: 10\n",
      "True omega: -0.559541, prediction by NN: 2.474615, num of resample calls: 9. Failed\n",
      "True omega: 1.767915, prediction by NN: -2.481205, num of resample calls: 10. Failed\n",
      "True omega: -1.920057, prediction by NN: -1.672913, num of resample calls: 10\n",
      "True omega: 0.932198, prediction by NN: 1.461870, num of resample calls: 10\n",
      "True omega: 1.601201, prediction by NN: 1.747933, num of resample calls: 10\n",
      "True omega: 3.064393, prediction by NN: 2.906278, num of resample calls: 10\n",
      "True omega: 0.580246, prediction by NN: 0.660677, num of resample calls: 9\n",
      "True omega: 1.232067, prediction by NN: 1.239410, num of resample calls: 6\n",
      "True omega: -1.140924, prediction by NN: -1.140707, num of resample calls: 8\n",
      "True omega: -2.018914, prediction by NN: -1.992879, num of resample calls: 10\n",
      "True omega: -2.414976, prediction by NN: 1.566301, num of resample calls: 10. Failed\n",
      "True omega: -1.173711, prediction by NN: 0.089448, num of resample calls: 9. Failed\n",
      "True omega: -2.987810, prediction by NN: -3.001533, num of resample calls: 10\n",
      "True omega: -0.375362, prediction by NN: 1.611677, num of resample calls: 10. Failed\n",
      "True omega: -1.501557, prediction by NN: 2.312382, num of resample calls: 10. Failed\n",
      "True omega: -0.964183, prediction by NN: -0.582555, num of resample calls: 11\n",
      "True omega: 1.481337, prediction by NN: 1.475169, num of resample calls: 10\n",
      "True omega: 2.149698, prediction by NN: 2.177870, num of resample calls: 10\n",
      "True omega: 0.827825, prediction by NN: -2.636512, num of resample calls: 10. Failed\n",
      "True omega: 1.903525, prediction by NN: 1.823753, num of resample calls: 10\n",
      "True omega: 1.928973, prediction by NN: -1.616372, num of resample calls: 11. Failed\n",
      "True omega: 2.161315, prediction by NN: 0.584282, num of resample calls: 10. Failed\n",
      "True omega: -2.742972, prediction by NN: 1.499003, num of resample calls: 9. Failed\n",
      "True omega: 0.384616, prediction by NN: -2.625845, num of resample calls: 10. Failed\n",
      "True omega: 2.604959, prediction by NN: 1.412498, num of resample calls: 10. Failed\n",
      "True omega: 0.860881, prediction by NN: 0.859824, num of resample calls: 9\n",
      "True omega: -1.234725, prediction by NN: -1.233739, num of resample calls: 5\n",
      "True omega: -0.042704, prediction by NN: -0.569092, num of resample calls: 7\n",
      "True omega: 1.535989, prediction by NN: 1.535858, num of resample calls: 10\n",
      "True omega: 2.529909, prediction by NN: 1.175311, num of resample calls: 10. Failed\n",
      "True omega: -0.615217, prediction by NN: -1.317523, num of resample calls: 10\n",
      "True omega: 1.234772, prediction by NN: -0.329635, num of resample calls: 10. Failed\n",
      "True omega: 0.387450, prediction by NN: 1.132029, num of resample calls: 9\n",
      "True omega: -1.857205, prediction by NN: -1.451867, num of resample calls: 10\n",
      "True omega: 2.791486, prediction by NN: -2.700834, num of resample calls: 10. Failed\n",
      "True omega: -0.439106, prediction by NN: -0.508463, num of resample calls: 10\n",
      "True omega: -0.914277, prediction by NN: 0.947125, num of resample calls: 10. Failed\n",
      "True omega: 2.934480, prediction by NN: 0.215959, num of resample calls: 11. Failed\n",
      "True omega: 2.934873, prediction by NN: 1.723507, num of resample calls: 10. Failed\n",
      "True omega: 1.465687, prediction by NN: -2.194476, num of resample calls: 10. Failed\n",
      "True omega: -0.215050, prediction by NN: 2.922775, num of resample calls: 10. Failed\n",
      "True omega: -2.983559, prediction by NN: 1.041963, num of resample calls: 10. Failed\n",
      "True omega: -1.070638, prediction by NN: -1.070948, num of resample calls: 6\n",
      "True omega: 2.553455, prediction by NN: -2.747196, num of resample calls: 9. Failed\n",
      "True omega: 0.730991, prediction by NN: 0.078649, num of resample calls: 10\n",
      "True omega: -2.650258, prediction by NN: 2.039607, num of resample calls: 10. Failed\n",
      "True omega: 1.327480, prediction by NN: 1.394219, num of resample calls: 10\n",
      "True omega: -1.108486, prediction by NN: -2.055773, num of resample calls: 11\n",
      "True omega: 2.063015, prediction by NN: 1.278487, num of resample calls: 10\n",
      "True omega: 0.615818, prediction by NN: 0.634679, num of resample calls: 10\n",
      "True omega: -1.066834, prediction by NN: -1.967248, num of resample calls: 10\n",
      "True omega: -2.458282, prediction by NN: -1.011443, num of resample calls: 10. Failed\n",
      "True omega: 0.778415, prediction by NN: 1.172817, num of resample calls: 10\n",
      "True omega: -2.514222, prediction by NN: 0.975975, num of resample calls: 10. Failed\n",
      "True omega: 1.056734, prediction by NN: -2.278407, num of resample calls: 10. Failed\n",
      "True omega: 0.299598, prediction by NN: -2.594912, num of resample calls: 10. Failed\n",
      "True omega: -1.378486, prediction by NN: 2.769479, num of resample calls: 9. Failed\n",
      "True omega: 2.185303, prediction by NN: -1.335835, num of resample calls: 9. Failed\n",
      "True omega: -2.998260, prediction by NN: -0.115163, num of resample calls: 11. Failed\n",
      "True omega: 2.212280, prediction by NN: 2.207561, num of resample calls: 11\n",
      "True omega: -2.616194, prediction by NN: -2.480821, num of resample calls: 9\n",
      "True omega: -2.751731, prediction by NN: 2.586782, num of resample calls: 10. Failed\n"
     ]
    }
   ],
   "source": [
    "true_omegas = []\n",
    "nn_preds = []\n",
    "nn_data = []\n",
    "\n",
    "for i in range(n_iters): \n",
    "    \n",
    "    true_omega = np.random.uniform(low=-1, high =1) * np.pi\n",
    "    \n",
    "    true_omegas.append(true_omega)\n",
    "    smc = phase_est_smc(true_omega, t0, max_iters)\n",
    "    smc.init_particles(num_particles)\n",
    "    resample_counts = 0\n",
    "    \n",
    "    while True:\n",
    "        \n",
    "        particle_pos, particle_wgts = smc.particles(threshold=num_particles/5, num_measurements=1)\n",
    "        bins, edges = smc.get_bins(num_bins, num_samples)\n",
    "        \n",
    "        if smc.break_flag:\n",
    "            break\n",
    "            \n",
    "        nn_pred = net(torch.tensor(bins).float().unsqueeze(0)) ## convert to float tensor, then make dim [1, num_bins]\n",
    "        smc.nn_bins_to_particles(nn_pred.detach().numpy(), edges)\n",
    "        \n",
    "        resample_counts += 1\n",
    "\n",
    "        \n",
    "#         if len(running_est) > 5:\n",
    "#             last_n = running_est[-5:]\n",
    "#             # np.allclose(a,b) returns true if every element in a and b are equal to a tolerance\n",
    "#             # np.full_like makes an array with shake of last_n with every element being last_n[0]\n",
    "#             # if all elements of last_n are equal then they should all equal the first element\n",
    "#             if np.allclose(last_n, np.full_like(last_n, last_n[0])):\n",
    "#                 break         \n",
    "    \n",
    "    nn_data.append(smc.data)\n",
    "    nn_preds.append(smc.curr_omega_est)\n",
    "    \n",
    "    if np.abs(true_omega - smc.curr_omega_est) > 1:\n",
    "        print(\"True omega: {:f}, prediction by NN: {:f}, num of resample calls: {:d}. Failed\".format(true_omega,\n",
    "                                                                                            smc.curr_omega_est,\n",
    "                                                                                            resample_counts))\n",
    "    else:\n",
    "        print(\"True omega: {:f}, prediction by NN: {:f}, num of resample calls: {:d}\".format(true_omega,\n",
    "                                                                                            smc.curr_omega_est,\n",
    "                                                                                            resample_counts))"
   ]
  },
  {
   "cell_type": "code",
   "execution_count": 93,
   "metadata": {},
   "outputs": [
    {
     "name": "stdout",
     "output_type": "stream",
     "text": [
      "5.408570287676906\n"
     ]
    }
   ],
   "source": [
    "nn_mse = np.mean( (np.array(true_omegas) - np.array(nn_preds) ) ** 2 )\n",
    "print(nn_mse)"
   ]
  },
  {
   "cell_type": "code",
   "execution_count": 94,
   "metadata": {},
   "outputs": [
    {
     "data": {
      "image/png": "[encoded data removed]",
      "text/plain": [
       "<Figure size 432x288 with 1 Axes>"
      ]
     },
     "metadata": {
      "needs_background": "light"
     },
     "output_type": "display_data"
    }
   ],
   "source": [
    "nn_data_squared = ( np.array(nn_data) - np.array(true_omegas).reshape(-1,1)) ** 2 \n",
    "nn_data_mean = np.mean(nn_data_squared, axis=0)\n",
    "nn_data_median = np.median(nn_data_squared, axis =0)\n",
    "\n",
    "num_data_points = nn_data_squared.shape[1]\n",
    "\n",
    "plt.plot(np.arange(1,num_data_points+1, dtype=int), nn_data_mean, label='Mean')\n",
    "plt.plot(np.arange(1,num_data_points+1, dtype=int), nn_data_median, label='Median')\n",
    "plt.legend()\n",
    "plt.title(\"NN\")\n",
    "plt.yscale('log')\n",
    "plt.xlabel(\"Iters\")\n",
    "plt.ylabel(\"$(\\omega - \\omega*)^2$\")\n",
    "plt.show()"
   ]
  },
  {
   "cell_type": "markdown",
   "metadata": {},
   "source": [
    "## Liu-West resampler"
   ]
  },
  {
   "cell_type": "code",
   "execution_count": 95,
   "metadata": {
    "scrolled": true
   },
   "outputs": [
    {
     "name": "stdout",
     "output_type": "stream",
     "text": [
      "True omega: 3.087583, prediction by NN: 3.516780, num of resample calls: 11\n",
      "True omega: -1.367253, prediction by NN: -2.772652, num of resample calls: 11. Failed\n",
      "True omega: -2.512918, prediction by NN: 2.170502, num of resample calls: 11. Failed\n",
      "True omega: 2.430231, prediction by NN: -0.234708, num of resample calls: 11. Failed\n",
      "True omega: -3.055301, prediction by NN: 2.724159, num of resample calls: 11. Failed\n",
      "True omega: -0.671390, prediction by NN: 0.221836, num of resample calls: 11\n",
      "True omega: 1.356123, prediction by NN: 0.626896, num of resample calls: 11\n",
      "True omega: 2.740511, prediction by NN: -1.552198, num of resample calls: 11. Failed\n",
      "True omega: 0.797891, prediction by NN: 1.346313, num of resample calls: 11\n",
      "True omega: 1.654585, prediction by NN: 2.198337, num of resample calls: 11\n",
      "True omega: 1.471510, prediction by NN: 2.356464, num of resample calls: 11\n",
      "True omega: -0.147524, prediction by NN: -0.197066, num of resample calls: 11\n",
      "True omega: 2.570833, prediction by NN: 1.093266, num of resample calls: 11. Failed\n",
      "True omega: -0.780294, prediction by NN: 0.258278, num of resample calls: 10. Failed\n",
      "True omega: 2.164674, prediction by NN: -2.384528, num of resample calls: 11. Failed\n",
      "True omega: -1.264060, prediction by NN: 2.016935, num of resample calls: 11. Failed\n",
      "True omega: -0.976448, prediction by NN: -0.845287, num of resample calls: 11\n",
      "True omega: -1.743825, prediction by NN: -0.281598, num of resample calls: 11. Failed\n",
      "True omega: 0.024520, prediction by NN: 4.127008, num of resample calls: 11. Failed\n",
      "True omega: -1.743888, prediction by NN: 1.114354, num of resample calls: 11. Failed\n",
      "True omega: 0.300581, prediction by NN: -0.455942, num of resample calls: 12\n",
      "True omega: -0.610454, prediction by NN: 1.308791, num of resample calls: 11. Failed\n",
      "True omega: 0.143559, prediction by NN: -3.156341, num of resample calls: 11. Failed\n",
      "True omega: 0.607926, prediction by NN: 2.469252, num of resample calls: 11. Failed\n",
      "True omega: 1.990580, prediction by NN: -2.160269, num of resample calls: 11. Failed\n",
      "True omega: 2.081562, prediction by NN: -1.353392, num of resample calls: 11. Failed\n",
      "True omega: 2.988221, prediction by NN: 1.469951, num of resample calls: 12. Failed\n",
      "True omega: 2.149848, prediction by NN: -1.302124, num of resample calls: 11. Failed\n",
      "True omega: -0.717106, prediction by NN: 0.000386, num of resample calls: 11\n",
      "True omega: -0.425715, prediction by NN: 1.437996, num of resample calls: 11. Failed\n",
      "True omega: -0.788364, prediction by NN: 1.956834, num of resample calls: 11. Failed\n",
      "True omega: 2.782734, prediction by NN: -1.179585, num of resample calls: 12. Failed\n",
      "True omega: -1.151325, prediction by NN: -0.677248, num of resample calls: 11\n",
      "True omega: -1.004326, prediction by NN: -1.128074, num of resample calls: 11\n",
      "True omega: -1.393444, prediction by NN: -1.548940, num of resample calls: 12\n",
      "True omega: -1.811115, prediction by NN: -1.803578, num of resample calls: 12\n",
      "True omega: -1.112307, prediction by NN: 0.436714, num of resample calls: 12. Failed\n",
      "True omega: -0.630242, prediction by NN: -1.568624, num of resample calls: 11\n",
      "True omega: -3.127465, prediction by NN: 1.558123, num of resample calls: 12. Failed\n",
      "True omega: 2.339696, prediction by NN: -2.197312, num of resample calls: 11. Failed\n",
      "True omega: -0.326385, prediction by NN: 2.118382, num of resample calls: 11. Failed\n",
      "True omega: 1.712615, prediction by NN: 2.921224, num of resample calls: 10. Failed\n",
      "True omega: -3.079617, prediction by NN: -2.766334, num of resample calls: 12\n",
      "True omega: 2.683955, prediction by NN: -3.273415, num of resample calls: 12. Failed\n",
      "True omega: 0.392146, prediction by NN: 1.546908, num of resample calls: 11. Failed\n",
      "True omega: 2.534139, prediction by NN: -0.256450, num of resample calls: 11. Failed\n",
      "True omega: -1.194016, prediction by NN: 1.959360, num of resample calls: 11. Failed\n",
      "True omega: -0.372567, prediction by NN: -1.950569, num of resample calls: 11. Failed\n",
      "True omega: -0.971511, prediction by NN: 1.973668, num of resample calls: 11. Failed\n",
      "True omega: 1.508084, prediction by NN: 0.348816, num of resample calls: 11. Failed\n",
      "True omega: 1.723815, prediction by NN: -2.274029, num of resample calls: 11. Failed\n",
      "True omega: -0.129647, prediction by NN: 0.720125, num of resample calls: 11\n",
      "True omega: -0.935970, prediction by NN: 3.150515, num of resample calls: 11. Failed\n",
      "True omega: -1.980394, prediction by NN: 2.895604, num of resample calls: 11. Failed\n",
      "True omega: -1.059048, prediction by NN: -1.519402, num of resample calls: 12\n",
      "True omega: -1.729137, prediction by NN: -0.130984, num of resample calls: 11. Failed\n",
      "True omega: -0.844987, prediction by NN: -0.781915, num of resample calls: 12\n",
      "True omega: 1.199228, prediction by NN: -2.621735, num of resample calls: 11. Failed\n",
      "True omega: 2.290586, prediction by NN: -0.596593, num of resample calls: 11. Failed\n",
      "True omega: -1.261771, prediction by NN: -2.849910, num of resample calls: 11. Failed\n",
      "True omega: -0.514378, prediction by NN: 1.204258, num of resample calls: 11. Failed\n",
      "True omega: -0.134496, prediction by NN: 1.364878, num of resample calls: 11. Failed\n",
      "True omega: -2.227904, prediction by NN: 1.791666, num of resample calls: 11. Failed\n",
      "True omega: -2.141458, prediction by NN: -2.752317, num of resample calls: 11\n",
      "True omega: -0.201505, prediction by NN: -2.368817, num of resample calls: 11. Failed\n",
      "True omega: 2.930280, prediction by NN: -0.901891, num of resample calls: 12. Failed\n",
      "True omega: -2.121175, prediction by NN: 1.148937, num of resample calls: 11. Failed\n",
      "True omega: 1.426789, prediction by NN: 0.593369, num of resample calls: 12\n",
      "True omega: -2.662400, prediction by NN: -4.202149, num of resample calls: 11. Failed\n",
      "True omega: 2.485907, prediction by NN: -0.302823, num of resample calls: 12. Failed\n",
      "True omega: -0.195032, prediction by NN: -1.607615, num of resample calls: 11. Failed\n",
      "True omega: 2.855702, prediction by NN: 0.249775, num of resample calls: 11. Failed\n",
      "True omega: -1.442441, prediction by NN: 1.488393, num of resample calls: 11. Failed\n",
      "True omega: -2.739142, prediction by NN: -2.867641, num of resample calls: 12\n",
      "True omega: -0.589161, prediction by NN: -0.577542, num of resample calls: 12\n",
      "True omega: 2.670465, prediction by NN: 1.429643, num of resample calls: 11. Failed\n",
      "True omega: -1.123870, prediction by NN: 1.479193, num of resample calls: 11. Failed\n",
      "True omega: 0.887017, prediction by NN: -0.443198, num of resample calls: 12. Failed\n",
      "True omega: 0.975031, prediction by NN: 1.322582, num of resample calls: 11\n",
      "True omega: 0.378885, prediction by NN: -0.946768, num of resample calls: 12. Failed\n",
      "True omega: -1.577047, prediction by NN: -1.911824, num of resample calls: 11\n",
      "True omega: -1.053533, prediction by NN: -1.681340, num of resample calls: 12\n",
      "True omega: 2.629785, prediction by NN: 0.784801, num of resample calls: 11. Failed\n",
      "True omega: 2.258374, prediction by NN: 0.479583, num of resample calls: 11. Failed\n",
      "True omega: -2.448021, prediction by NN: 1.095571, num of resample calls: 11. Failed\n",
      "True omega: 2.914482, prediction by NN: -0.515005, num of resample calls: 11. Failed\n",
      "True omega: -2.613730, prediction by NN: 1.057175, num of resample calls: 11. Failed\n",
      "True omega: 0.112477, prediction by NN: -0.334533, num of resample calls: 11\n",
      "True omega: 2.552708, prediction by NN: -1.358144, num of resample calls: 12. Failed\n",
      "True omega: -2.410757, prediction by NN: 1.327933, num of resample calls: 11. Failed\n",
      "True omega: 2.588627, prediction by NN: -1.928203, num of resample calls: 11. Failed\n",
      "True omega: -2.469382, prediction by NN: -1.114828, num of resample calls: 11. Failed\n",
      "True omega: 0.760342, prediction by NN: 0.969392, num of resample calls: 11\n",
      "True omega: -2.893003, prediction by NN: -2.167337, num of resample calls: 11\n",
      "True omega: -2.711633, prediction by NN: 2.210660, num of resample calls: 11. Failed\n",
      "True omega: -1.801962, prediction by NN: -1.329405, num of resample calls: 11\n",
      "True omega: -0.160258, prediction by NN: 2.620651, num of resample calls: 11. Failed\n",
      "True omega: -0.100625, prediction by NN: -0.008576, num of resample calls: 11\n",
      "True omega: -2.589009, prediction by NN: -1.612282, num of resample calls: 12\n",
      "True omega: -0.076360, prediction by NN: 0.336145, num of resample calls: 11\n"
     ]
    }
   ],
   "source": [
    "true_omegas = []\n",
    "lw_preds = []\n",
    "lw_data = []\n",
    "\n",
    "for i in range(n_iters): \n",
    "    true_omega = np.random.uniform(low=-1, high=1) * np.pi\n",
    "    \n",
    "    true_omegas.append(true_omega)\n",
    "    smc = phase_est_smc(true_omega, t0, max_iters)\n",
    "    smc.init_particles(num_particles)\n",
    "    \n",
    "    resample_counts = 0\n",
    "    \n",
    "    while True:\n",
    "\n",
    "        particle_pos, particle_wgts = smc.particles(threshold=num_particles/5, num_measurements=1)\n",
    "        smc.liu_west_resample()\n",
    "    \n",
    "        resample_counts += 1 \n",
    "        \n",
    "        if smc.break_flag == True:\n",
    "            break\n",
    "        \n",
    "#         if len(running_est) > 5:\n",
    "#             last_5 = running_est[-5:]\n",
    "#             # np.allclose(a,b) returns true if every element in a and b are equal to a tolerance\n",
    "#             # np.full_like makes an array with shape of last_10 with every element being last_10[0]\n",
    "#             # if all elements of last_10 are equal then they should all equal the first element\n",
    "#             if np.allclose(last_5, np.full_like(last_5, last_5[0])):\n",
    "#                 break\n",
    "\n",
    "    while len(smc.data) < max_iters:\n",
    "        smc.data.append(smc.data[-1]) # append the last estimate\n",
    "\n",
    "    lw_data.append(smc.data)\n",
    "    lw_preds.append(smc.curr_omega_est)\n",
    "    \n",
    "    if np.abs(true_omega - smc.curr_omega_est) > 1:\n",
    "        print(\"True omega: {:f}, prediction by NN: {:f}, num of resample calls: {:d}. Failed\".format(true_omega,\n",
    "                                                                                            smc.curr_omega_est,\n",
    "                                                                                            resample_counts))\n",
    "    \n",
    "    else:\n",
    "        print(\"True omega: {:f}, prediction by NN: {:f}, num of resample calls: {:d}\".format(true_omega,\n",
    "                                                                                            smc.curr_omega_est,\n",
    "                                                                                            resample_counts))\n",
    "    "
   ]
  },
  {
   "cell_type": "code",
   "execution_count": 96,
   "metadata": {},
   "outputs": [
    {
     "name": "stdout",
     "output_type": "stream",
     "text": [
      "6.6525989752913635\n"
     ]
    }
   ],
   "source": [
    "lw_mse = np.mean( (np.array(true_omegas) - np.array(lw_preds)) ** 2 )\n",
    "print(lw_mse)"
   ]
  },
  {
   "cell_type": "code",
   "execution_count": 97,
   "metadata": {},
   "outputs": [
    {
     "data": {
      "image/png": "[encoded data removed]",
      "text/plain": [
       "<Figure size 432x288 with 1 Axes>"
      ]
     },
     "metadata": {
      "needs_background": "light"
     },
     "output_type": "display_data"
    }
   ],
   "source": [
    "lw_data_squared = ( np.array(lw_data) - np.array(true_omegas).reshape(-1,1)) ** 2 \n",
    "lw_data_mean = np.mean(lw_data_squared, axis=0)\n",
    "lw_data_median = np.median(lw_data_squared, axis =0)\n",
    "\n",
    "num_data_points = lw_data_squared.shape[1]\n",
    "\n",
    "plt.plot(np.arange(1,num_data_points+1, dtype=int), lw_data_mean, label='Mean')\n",
    "plt.plot(np.arange(1,num_data_points+1, dtype=int), lw_data_median, label='Median')\n",
    "plt.legend()\n",
    "plt.title(\"LW\")\n",
    "plt.xlabel(\"Iters\")\n",
    "plt.ylabel(\"$(\\omega - \\omega*)^2$\")\n",
    "plt.yscale('log')\n",
    "plt.show()"
   ]
  }
 ],
 "metadata": {
  "kernelspec": {
   "display_name": "Python 3",
   "language": "python",
   "name": "python3"
  },
  "language_info": {
   "codemirror_mode": {
    "name": "ipython",
    "version": 3
   },
   "file_extension": ".py",
   "mimetype": "text/x-python",
   "name": "python",
   "nbconvert_exporter": "python",
   "pygments_lexer": "ipython3",
   "version": "3.8.3"
  }
 },
 "nbformat": 4,
 "nbformat_minor": 4
}
