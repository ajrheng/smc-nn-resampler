{
 "cells": [
  {
   "cell_type": "code",
   "execution_count": 1,
   "metadata": {},
   "outputs": [
    {
     "ename": "ModuleNotFoundError",
     "evalue": "No module named 'matplotlib'",
     "output_type": "error",
     "traceback": [
      "\u001b[1;31m---------------------------------------------------------------------------\u001b[0m",
      "\u001b[1;31mModuleNotFoundError\u001b[0m                       Traceback (most recent call last)",
      "\u001b[1;32m<ipython-input-1-8f4e2ba0b645>\u001b[0m in \u001b[0;36m<module>\u001b[1;34m\u001b[0m\n\u001b[0;32m      5\u001b[0m \u001b[1;32mimport\u001b[0m \u001b[0mnumpy\u001b[0m \u001b[1;32mas\u001b[0m \u001b[0mnp\u001b[0m\u001b[1;33m\u001b[0m\u001b[1;33m\u001b[0m\u001b[0m\n\u001b[0;32m      6\u001b[0m \u001b[1;32mimport\u001b[0m \u001b[0mtorch\u001b[0m\u001b[1;33m.\u001b[0m\u001b[0moptim\u001b[0m \u001b[1;32mas\u001b[0m \u001b[0moptim\u001b[0m\u001b[1;33m\u001b[0m\u001b[1;33m\u001b[0m\u001b[0m\n\u001b[1;32m----> 7\u001b[1;33m \u001b[1;32mimport\u001b[0m \u001b[0mmatplotlib\u001b[0m\u001b[1;33m.\u001b[0m\u001b[0mpyplot\u001b[0m \u001b[1;32mas\u001b[0m \u001b[0mplt\u001b[0m\u001b[1;33m\u001b[0m\u001b[1;33m\u001b[0m\u001b[0m\n\u001b[0m\u001b[0;32m      8\u001b[0m \u001b[1;32mimport\u001b[0m \u001b[0mscipy\u001b[0m\u001b[1;33m.\u001b[0m\u001b[0mstats\u001b[0m\u001b[1;33m\u001b[0m\u001b[1;33m\u001b[0m\u001b[0m\n\u001b[0;32m      9\u001b[0m \u001b[1;32mfrom\u001b[0m \u001b[0mtqdm\u001b[0m \u001b[1;32mimport\u001b[0m \u001b[0mtqdm\u001b[0m\u001b[1;33m\u001b[0m\u001b[1;33m\u001b[0m\u001b[0m\n",
      "\u001b[1;31mModuleNotFoundError\u001b[0m: No module named 'matplotlib'"
     ]
    }
   ],
   "source": [
    "import torch\n",
    "import math\n",
    "import torch.nn as nn\n",
    "import torch.nn.functional as F\n",
    "import numpy as np\n",
    "import torch.optim as optim\n",
    "import matplotlib.pyplot as plt\n",
    "import scipy.stats\n",
    "from tqdm import tqdm\n",
    "\n",
    "device = torch.device(\"cuda:0\" if torch.cuda.is_available() else \"cpu\")\n",
    "print(device)"
   ]
  },
  {
   "cell_type": "code",
   "execution_count": null,
   "metadata": {},
   "outputs": [],
   "source": [
    "from nn_resampler import nn_resampler\n",
    "from phase_est_smc import phase_est_smc"
   ]
  },
  {
   "cell_type": "code",
   "execution_count": null,
   "metadata": {},
   "outputs": [],
   "source": [
    "num_particles = 1000 # number of SMC particles (num of w points)\n",
    "num_samples = 10000 # number of samples to draw from the particle distribution (to be binned)\n",
    "num_bins = 100 # number of bins\n",
    "n_runs = 100 # number of different omega*\n",
    "t0 = 10 # starting time\n",
    "max_iters = 100 # maximum number of iterations before breaking"
   ]
  },
  {
   "cell_type": "code",
   "execution_count": null,
   "metadata": {},
   "outputs": [],
   "source": [
    "net = nn_resampler(num_bins,num_bins)\n",
    "net.load_state_dict(torch.load(\"model/nn_resampler.model\"))\n",
    "net.eval();"
   ]
  },
  {
   "cell_type": "markdown",
   "metadata": {},
   "source": [
    "## NN Resampler"
   ]
  },
  {
   "cell_type": "code",
   "execution_count": null,
   "metadata": {
    "scrolled": true
   },
   "outputs": [],
   "source": [
    "true_omegas = []\n",
    "nn_preds = []\n",
    "nn_data = []\n",
    "\n",
    "for i in range(n_runs): \n",
    "    \n",
    "    true_omega = np.random.uniform(low=-1, high =1) * np.pi\n",
    "    \n",
    "    true_omegas.append(true_omega)\n",
    "    smc = phase_est_smc(true_omega, t0, max_iters)\n",
    "    smc.init_particles(num_particles)\n",
    "    resample_counts = 0\n",
    "    \n",
    "    while True:\n",
    "        \n",
    "        particle_pos, particle_wgts = smc.particles(threshold=num_particles/10, num_measurements=1)\n",
    "        bins, edges = smc.get_bins(num_bins, num_samples)\n",
    "        \n",
    "        if smc.break_flag:\n",
    "            break\n",
    "            \n",
    "        nn_pred = net(torch.tensor(bins).float().unsqueeze(0)) ## convert to float tensor, then make dim [1, num_bins]\n",
    "        smc.nn_bins_to_particles(nn_pred.detach().numpy(), edges)\n",
    "        \n",
    "        resample_counts += 1\n",
    "\n",
    "    nn_data.append(smc.data)\n",
    "    nn_preds.append(smc.curr_omega_est)\n",
    "    \n",
    "    if np.abs(true_omega - smc.curr_omega_est) > 1:\n",
    "        print(\"True omega: {:f}, prediction by NN: {:f}, num of resample calls: {:d}. Failed\".format(true_omega,\n",
    "                                                                                            smc.curr_omega_est,\n",
    "                                                                                            resample_counts))\n",
    "    else:\n",
    "        print(\"True omega: {:f}, prediction by NN: {:f}, num of resample calls: {:d}\".format(true_omega,\n",
    "                                                                                            smc.curr_omega_est,\n",
    "                                                                                            resample_counts))"
   ]
  },
  {
   "cell_type": "code",
   "execution_count": null,
   "metadata": {},
   "outputs": [],
   "source": [
    "nn_mse = np.mean( (np.array(true_omegas) - np.array(nn_preds) ) ** 2 )\n",
    "print(nn_mse)"
   ]
  },
  {
   "cell_type": "code",
   "execution_count": null,
   "metadata": {},
   "outputs": [],
   "source": [
    "nn_data_squared = ( np.array(nn_data) - np.array(true_omegas).reshape(-1,1)) ** 2 \n",
    "nn_data_mean = np.mean(nn_data_squared, axis=0)\n",
    "nn_data_median = np.median(nn_data_squared, axis =0)\n",
    "\n",
    "num_data_points = nn_data_squared.shape[1]\n",
    "\n",
    "plt.plot(np.arange(1,num_data_points+1, dtype=int), nn_data_mean, label='Mean')\n",
    "plt.plot(np.arange(1,num_data_points+1, dtype=int), nn_data_median, label='Median')\n",
    "plt.legend()\n",
    "plt.title(\"NN\")\n",
    "plt.xlabel(\"Iters\")\n",
    "plt.ylabel(\"$(\\omega - \\omega*)^2$\")\n",
    "plt.yscale('log')\n",
    "plt.show()"
   ]
  },
  {
   "cell_type": "markdown",
   "metadata": {},
   "source": [
    "## Gaussian Bin Resampler"
   ]
  },
  {
   "cell_type": "code",
   "execution_count": null,
   "metadata": {
    "scrolled": true
   },
   "outputs": [],
   "source": [
    "true_omegas = []\n",
    "gb_preds = []\n",
    "gb_data = []\n",
    "\n",
    "for i in range(n_runs): \n",
    "    \n",
    "    true_omega = np.random.uniform(low=-1, high =1) * np.pi\n",
    "    \n",
    "    true_omegas.append(true_omega)\n",
    "    smc = phase_est_smc(true_omega, t0, max_iters)\n",
    "    smc.init_particles(num_particles)\n",
    "    resample_counts = 0\n",
    "    \n",
    "    while True:\n",
    "        \n",
    "        particle_pos, particle_wgts = smc.particles(threshold=num_particles/10, num_measurements=1)\n",
    "        bins, edges = smc.get_bins(num_bins, num_samples)\n",
    "        \n",
    "        if smc.break_flag:\n",
    "            break\n",
    "        \n",
    "        smc.nn_bins_to_particles(bins[np.newaxis,:],edges)\n",
    "        \n",
    "        resample_counts += 1   \n",
    "    \n",
    "    gb_data.append(smc.data)\n",
    "    gb_preds.append(smc.curr_omega_est)\n",
    "    \n",
    "    if np.abs(true_omega - smc.curr_omega_est) > 1:\n",
    "        print(\"True omega: {:f}, prediction by GB: {:f}, num of resample calls: {:d}. Failed\".format(true_omega,\n",
    "                                                                                            smc.curr_omega_est,\n",
    "                                                                                            resample_counts))\n",
    "    else:\n",
    "        print(\"True omega: {:f}, prediction by GB: {:f}, num of resample calls: {:d}\".format(true_omega,\n",
    "                                                                                            smc.curr_omega_est,\n",
    "                                                                                            resample_counts))"
   ]
  },
  {
   "cell_type": "code",
   "execution_count": null,
   "metadata": {},
   "outputs": [],
   "source": [
    "gb_mse = np.mean( (np.array(true_omegas) - np.array(gb_preds) ) ** 2 )\n",
    "print(gb_mse)"
   ]
  },
  {
   "cell_type": "code",
   "execution_count": null,
   "metadata": {},
   "outputs": [],
   "source": [
    "gb_data_squared = ( np.array(gb_data) - np.array(true_omegas).reshape(-1,1)) ** 2 \n",
    "gb_data_mean = np.mean(gb_data_squared, axis=0)\n",
    "gb_data_median = np.median(gb_data_squared, axis =0)\n",
    "\n",
    "num_data_points = gb_data_squared.shape[1]\n",
    "\n",
    "plt.plot(np.arange(1,num_data_points+1, dtype=int), gb_data_mean, label='Mean')\n",
    "plt.plot(np.arange(1,num_data_points+1, dtype=int), gb_data_median, label='Median')\n",
    "plt.legend()\n",
    "plt.title(\"GB\")\n",
    "plt.xlabel(\"Iters\")\n",
    "plt.ylabel(\"$(\\omega - \\omega*)^2$\")\n",
    "plt.yscale('log')\n",
    "plt.show()"
   ]
  },
  {
   "cell_type": "markdown",
   "metadata": {},
   "source": [
    "## Liu-West resampler"
   ]
  },
  {
   "cell_type": "code",
   "execution_count": null,
   "metadata": {
    "scrolled": true
   },
   "outputs": [],
   "source": [
    "true_omegas = []\n",
    "lw_preds = []\n",
    "lw_data = []\n",
    "\n",
    "for i in range(n_runs): \n",
    "    true_omega = np.random.uniform(low=-1, high=1) * np.pi\n",
    "    \n",
    "    true_omegas.append(true_omega)\n",
    "    smc = phase_est_smc(true_omega, t0, max_iters)\n",
    "    smc.init_particles(num_particles)\n",
    "    \n",
    "    resample_counts = 0\n",
    "    \n",
    "    while True:\n",
    "\n",
    "        particle_pos, particle_wgts = smc.particles(threshold=num_particles/10, num_measurements=1)\n",
    "        smc.liu_west_resample()\n",
    "    \n",
    "        resample_counts += 1 \n",
    "        \n",
    "        if smc.break_flag == True:\n",
    "            break\n",
    "\n",
    "    while len(smc.data) < max_iters:\n",
    "        smc.data.append(smc.data[-1]) # append the last estimate\n",
    "\n",
    "    lw_data.append(smc.data)\n",
    "    lw_preds.append(smc.curr_omega_est)\n",
    "    \n",
    "    if np.abs(true_omega - smc.curr_omega_est) > 1:\n",
    "        print(\"True omega: {:f}, prediction by NN: {:f}, num of resample calls: {:d}. Failed\".format(true_omega,\n",
    "                                                                                            smc.curr_omega_est,\n",
    "                                                                                            resample_counts))\n",
    "    \n",
    "    else:\n",
    "        print(\"True omega: {:f}, prediction by NN: {:f}, num of resample calls: {:d}\".format(true_omega,\n",
    "                                                                                            smc.curr_omega_est,\n",
    "                                                                                            resample_counts))\n",
    "    "
   ]
  },
  {
   "cell_type": "code",
   "execution_count": null,
   "metadata": {},
   "outputs": [],
   "source": [
    "lw_mse = np.mean( (np.array(true_omegas) - np.array(lw_preds)) ** 2 )\n",
    "print(lw_mse)"
   ]
  },
  {
   "cell_type": "code",
   "execution_count": null,
   "metadata": {},
   "outputs": [],
   "source": [
    "lw_data_squared = ( np.array(lw_data) - np.array(true_omegas).reshape(-1,1)) ** 2 \n",
    "lw_data_mean = np.mean(lw_data_squared, axis=0)\n",
    "lw_data_median = np.median(lw_data_squared, axis =0)\n",
    "\n",
    "num_data_points = lw_data_squared.shape[1]\n",
    "\n",
    "plt.plot(np.arange(1,num_data_points+1, dtype=int), lw_data_mean, label='Mean')\n",
    "plt.plot(np.arange(1,num_data_points+1, dtype=int), lw_data_median, label='Median')\n",
    "plt.legend()\n",
    "plt.title(\"LW\")\n",
    "plt.xlabel(\"Iters\")\n",
    "plt.ylabel(\"$(\\omega - \\omega*)^2$\")\n",
    "plt.yscale('log')\n",
    "plt.show()"
   ]
  },
  {
   "cell_type": "markdown",
   "metadata": {},
   "source": [
    "## KDE Resampler"
   ]
  },
  {
   "cell_type": "code",
   "execution_count": null,
   "metadata": {
    "scrolled": true
   },
   "outputs": [],
   "source": [
    "true_omegas = []\n",
    "kde_preds = []\n",
    "kde_data = []\n",
    "\n",
    "for i in range(n_runs): \n",
    "    \n",
    "    true_omega = np.random.uniform(low=-1, high =1) * np.pi\n",
    "    \n",
    "    true_omegas.append(true_omega)\n",
    "    smc = phase_est_smc(true_omega, t0, max_iters)\n",
    "    smc.init_particles(num_particles)\n",
    "    resample_counts = 0\n",
    "    \n",
    "    while True:\n",
    "        \n",
    "        particle_pos, particle_wgts = smc.particles(threshold=num_particles/5, num_measurements=1)\n",
    "        if smc.break_flag:\n",
    "            break\n",
    "        smc.kde_resample(num_samples=num_samples, method=1)\n",
    "        resample_counts += 1\n",
    "    \n",
    "    kde_data.append(smc.data)\n",
    "    kde_preds.append(smc.curr_omega_est)\n",
    "    \n",
    "    if np.abs(true_omega - smc.curr_omega_est) > 1:\n",
    "        print(\"True omega: {:f}, prediction by KDE: {:f}, num of resample calls: {:d}. Failed\".format(true_omega,\n",
    "                                                                                            smc.curr_omega_est,\n",
    "                                                                                            resample_counts))\n",
    "    else:\n",
    "        print(\"True omega: {:f}, prediction by KDE: {:f}, num of resample calls: {:d}\".format(true_omega,\n",
    "                                                                                            smc.curr_omega_est,\n",
    "                                                                                            resample_counts))"
   ]
  },
  {
   "cell_type": "code",
   "execution_count": null,
   "metadata": {},
   "outputs": [],
   "source": [
    "kde_mse = np.mean( (np.array(true_omegas) - np.array(kde_preds) ) ** 2 )\n",
    "print(kde_mse)"
   ]
  },
  {
   "cell_type": "code",
   "execution_count": null,
   "metadata": {},
   "outputs": [],
   "source": [
    "kde_data_squared = ( np.array(kde_data) - np.array(true_omegas).reshape(-1,1)) ** 2 \n",
    "kde_data_mean = np.mean(kde_data_squared, axis=0)\n",
    "kde_data_median = np.median(kde_data_squared, axis =0)\n",
    "\n",
    "num_data_points = kde_data_squared.shape[1]\n",
    "\n",
    "plt.plot(np.arange(1,num_data_points+1, dtype=int), kde_data_mean, label='Mean')\n",
    "plt.plot(np.arange(1,num_data_points+1, dtype=int), kde_data_median, label='Median')\n",
    "plt.legend()\n",
    "plt.title(\"KDE\")\n",
    "plt.xlabel(\"Iters\")\n",
    "plt.ylabel(\"$(\\omega - \\omega*)^2$\")\n",
    "plt.yscale('log')\n",
    "plt.show()"
   ]
  },
  {
   "cell_type": "code",
   "execution_count": null,
   "metadata": {},
   "outputs": [],
   "source": [
    "fig, (ax1, ax2) = plt.subplots(1,2, figsize=(12,6))\n",
    "x_iters = np.arange(1,num_data_points+1, dtype=int)\n",
    "ax1.plot(x_iters, nn_data_mean, label='NN Resampler')\n",
    "ax1.plot(x_iters, gb_data_mean, label='GB Resampler')\n",
    "ax1.plot(x_iters, lw_data_mean, label='LW Resampler')\n",
    "ax1.plot(x_iters, kde_data_mean, label='KDE Resampler')\n",
    "ax1.set_title(\"Mean vs n_iters\")\n",
    "ax1.set_ylabel(\"$(\\omega - \\omega*)^2$\")\n",
    "ax1.legend()\n",
    "\n",
    "ax2.plot(x_iters, nn_data_median, label='NN Resampler')\n",
    "ax2.plot(x_iters, gb_data_median, label='GB Resampler')\n",
    "ax2.plot(x_iters, lw_data_median, label='LW Resampler')\n",
    "ax2.plot(x_iters, kde_data_median, label='KDE Resampler')\n",
    "ax2.set_title(\"Median vs n_iters\")\n",
    "ax2.set_yscale(\"log\")\n",
    "ax2.legend()\n",
    "\n",
    "plt.show()"
   ]
  },
  {
   "cell_type": "code",
   "execution_count": null,
   "metadata": {},
   "outputs": [],
   "source": []
  }
 ],
 "metadata": {
  "kernelspec": {
   "display_name": "Python 3",
   "language": "python",
   "name": "python3"
  },
  "language_info": {
   "codemirror_mode": {
    "name": "ipython",
    "version": 3
   },
   "file_extension": ".py",
   "mimetype": "text/x-python",
   "name": "python",
   "nbconvert_exporter": "python",
   "pygments_lexer": "ipython3",
   "version": "3.8.3"
  }
 },
 "nbformat": 4,
 "nbformat_minor": 4
}
