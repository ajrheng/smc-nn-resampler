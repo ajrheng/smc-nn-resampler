{
 "cells": [
  {
   "cell_type": "code",
   "execution_count": 21,
   "metadata": {},
   "outputs": [
    {
     "name": "stdout",
     "output_type": "stream",
     "text": [
      "cuda:0\n"
     ]
    }
   ],
   "source": [
    "import torch\n",
    "import math\n",
    "import torch.nn as nn\n",
    "import torch.nn.functional as F\n",
    "import numpy as np\n",
    "import torch.optim as optim\n",
    "import matplotlib.pyplot as plt\n",
    "import scipy.stats\n",
    "from tqdm import tqdm\n",
    "\n",
    "device = torch.device(\"cuda:0\" if torch.cuda.is_available() else \"cpu\")\n",
    "print(device)"
   ]
  },
  {
   "cell_type": "code",
   "execution_count": 22,
   "metadata": {},
   "outputs": [],
   "source": [
    "from nn_resampler import nn_resampler\n",
    "from phase_est_smc import phase_est_smc"
   ]
  },
  {
   "cell_type": "code",
   "execution_count": 23,
   "metadata": {},
   "outputs": [],
   "source": [
    "num_particles = 1000 # number of SMC particles (num of w points)\n",
    "num_samples = 100000 # number of samples to draw from the particle distribution (to be binned)\n",
    "num_bins = 100 # number of bins\n",
    "n_iters = 100 # number of different omega*\n",
    "t0 = 0.1 # starting time\n",
    "max_iters = 200 # maximum number of iterations before breaking\n",
    "if_print = True"
   ]
  },
  {
   "cell_type": "code",
   "execution_count": 24,
   "metadata": {},
   "outputs": [],
   "source": [
    "net = nn_resampler(100,100)\n",
    "net.load_state_dict(torch.load(\"model/nn_resampler.model\"))\n",
    "net.eval();"
   ]
  },
  {
   "cell_type": "markdown",
   "metadata": {},
   "source": [
    "## NN Resampler"
   ]
  },
  {
   "cell_type": "code",
   "execution_count": 25,
   "metadata": {},
   "outputs": [
    {
     "name": "stdout",
     "output_type": "stream",
     "text": [
      "True omega: -1.390903, prediction by NN: -1.104980, num of resample calls: 35\n",
      "True omega: 2.081618, prediction by NN: 1.784609, num of resample calls: 35\n",
      "True omega: 0.208088, prediction by NN: -0.200735, num of resample calls: 36\n",
      "True omega: 2.521297, prediction by NN: -2.536488, num of resample calls: 38\n",
      "True omega: -2.665238, prediction by NN: -2.616737, num of resample calls: 37\n",
      "True omega: -2.417880, prediction by NN: -2.456455, num of resample calls: 36\n",
      "True omega: 1.119522, prediction by NN: -1.019770, num of resample calls: 34\n",
      "True omega: 0.096498, prediction by NN: 0.096612, num of resample calls: 32\n",
      "True omega: 2.518130, prediction by NN: 2.232083, num of resample calls: 37\n",
      "True omega: 0.842379, prediction by NN: 0.800560, num of resample calls: 36\n",
      "True omega: 0.440656, prediction by NN: 0.447730, num of resample calls: 35\n",
      "True omega: -1.106544, prediction by NN: -1.077494, num of resample calls: 34\n",
      "True omega: 3.078680, prediction by NN: -3.109761, num of resample calls: 36\n",
      "True omega: -1.100838, prediction by NN: -1.038976, num of resample calls: 35\n",
      "True omega: -2.629346, prediction by NN: 2.423337, num of resample calls: 36\n",
      "True omega: 0.258611, prediction by NN: -0.278603, num of resample calls: 34\n",
      "True omega: -2.472201, prediction by NN: 2.464298, num of resample calls: 35\n",
      "True omega: 0.483464, prediction by NN: -0.448426, num of resample calls: 35\n",
      "True omega: 2.447822, prediction by NN: -2.388195, num of resample calls: 38\n",
      "True omega: -2.947863, prediction by NN: 2.526127, num of resample calls: 34\n",
      "True omega: 0.773182, prediction by NN: -0.700877, num of resample calls: 34\n",
      "True omega: -2.701213, prediction by NN: 2.480453, num of resample calls: 36\n",
      "True omega: -1.040105, prediction by NN: 0.995832, num of resample calls: 34\n",
      "True omega: -1.328817, prediction by NN: 1.330286, num of resample calls: 35\n",
      "True omega: -0.189366, prediction by NN: -0.179850, num of resample calls: 33\n",
      "True omega: -0.211784, prediction by NN: 0.205671, num of resample calls: 33\n",
      "True omega: 2.942931, prediction by NN: 2.326162, num of resample calls: 35\n",
      "True omega: 0.269184, prediction by NN: -0.279812, num of resample calls: 35\n",
      "True omega: -0.933858, prediction by NN: 0.844582, num of resample calls: 36\n",
      "True omega: 0.119565, prediction by NN: -0.022124, num of resample calls: 33\n",
      "True omega: -2.090701, prediction by NN: 2.133855, num of resample calls: 35\n",
      "True omega: -1.313448, prediction by NN: 1.257045, num of resample calls: 35\n",
      "True omega: 1.819522, prediction by NN: -1.648389, num of resample calls: 36\n",
      "True omega: 1.725330, prediction by NN: 1.505246, num of resample calls: 35\n",
      "True omega: 0.208941, prediction by NN: -0.185667, num of resample calls: 34\n",
      "True omega: -1.370757, prediction by NN: -1.334016, num of resample calls: 36\n",
      "True omega: 0.654634, prediction by NN: 0.668047, num of resample calls: 34\n",
      "True omega: -0.390916, prediction by NN: 0.397185, num of resample calls: 36\n",
      "True omega: 2.143119, prediction by NN: 2.132749, num of resample calls: 35\n",
      "True omega: 2.947526, prediction by NN: 2.853583, num of resample calls: 36\n",
      "True omega: -1.617158, prediction by NN: 1.592320, num of resample calls: 35\n",
      "True omega: -2.735254, prediction by NN: 2.557400, num of resample calls: 36\n",
      "True omega: -2.940147, prediction by NN: 2.639085, num of resample calls: 36\n",
      "True omega: 1.678119, prediction by NN: 1.603048, num of resample calls: 36\n",
      "True omega: -1.012777, prediction by NN: 0.944880, num of resample calls: 35\n",
      "True omega: -0.374500, prediction by NN: 0.353039, num of resample calls: 34\n",
      "True omega: -0.118976, prediction by NN: -0.120854, num of resample calls: 31\n",
      "True omega: 1.521112, prediction by NN: 1.517547, num of resample calls: 37\n",
      "True omega: 0.483073, prediction by NN: -0.480081, num of resample calls: 35\n",
      "True omega: -1.213655, prediction by NN: 1.274144, num of resample calls: 35\n",
      "True omega: -2.433682, prediction by NN: -0.742406, num of resample calls: 36\n",
      "True omega: 1.245908, prediction by NN: -1.800334, num of resample calls: 37\n",
      "True omega: 1.450633, prediction by NN: -1.544089, num of resample calls: 39\n",
      "True omega: 1.257770, prediction by NN: -1.225560, num of resample calls: 35\n",
      "True omega: -2.382803, prediction by NN: -2.273227, num of resample calls: 37\n",
      "True omega: 2.727059, prediction by NN: 2.751065, num of resample calls: 36\n",
      "True omega: 0.483494, prediction by NN: 0.463691, num of resample calls: 33\n",
      "True omega: -2.393821, prediction by NN: 2.171516, num of resample calls: 38\n",
      "True omega: -2.516731, prediction by NN: -2.193870, num of resample calls: 36\n",
      "True omega: 2.182581, prediction by NN: 2.224796, num of resample calls: 36\n",
      "True omega: -3.114094, prediction by NN: 3.200486, num of resample calls: 36\n",
      "True omega: 1.947353, prediction by NN: 1.894507, num of resample calls: 37\n",
      "True omega: -1.911113, prediction by NN: -2.025626, num of resample calls: 38\n",
      "True omega: -1.081085, prediction by NN: -0.465639, num of resample calls: 36\n",
      "True omega: -2.920899, prediction by NN: 2.942467, num of resample calls: 37\n",
      "True omega: 0.683955, prediction by NN: -0.730923, num of resample calls: 35\n",
      "True omega: -1.768905, prediction by NN: 1.716120, num of resample calls: 39\n",
      "True omega: -2.242812, prediction by NN: 2.411587, num of resample calls: 35\n",
      "True omega: -2.512744, prediction by NN: 2.111750, num of resample calls: 35\n",
      "True omega: -0.055644, prediction by NN: -0.061045, num of resample calls: 31\n",
      "True omega: -1.117766, prediction by NN: 1.184696, num of resample calls: 37\n",
      "True omega: -2.977244, prediction by NN: 2.773482, num of resample calls: 37\n",
      "True omega: 0.267923, prediction by NN: 0.288814, num of resample calls: 33\n",
      "True omega: -0.329913, prediction by NN: -0.702797, num of resample calls: 36\n",
      "True omega: 2.019695, prediction by NN: 1.679333, num of resample calls: 36\n",
      "True omega: 2.125603, prediction by NN: -1.975226, num of resample calls: 34\n",
      "True omega: -1.740748, prediction by NN: -1.635814, num of resample calls: 36\n",
      "True omega: 1.061834, prediction by NN: 0.896983, num of resample calls: 34\n",
      "True omega: 2.753122, prediction by NN: 2.584033, num of resample calls: 35\n",
      "True omega: 2.242452, prediction by NN: 2.193411, num of resample calls: 35\n",
      "True omega: 2.101034, prediction by NN: 2.044952, num of resample calls: 37\n",
      "True omega: 0.326556, prediction by NN: 0.305379, num of resample calls: 33\n",
      "True omega: 0.591446, prediction by NN: -0.644143, num of resample calls: 36\n",
      "True omega: -3.115004, prediction by NN: 2.798743, num of resample calls: 35\n",
      "True omega: -1.330196, prediction by NN: -1.214437, num of resample calls: 35\n",
      "True omega: 2.983259, prediction by NN: -2.923334, num of resample calls: 36\n",
      "True omega: 1.507168, prediction by NN: 1.406514, num of resample calls: 35\n",
      "True omega: -3.043643, prediction by NN: 2.970237, num of resample calls: 37\n",
      "True omega: 2.682545, prediction by NN: 2.799359, num of resample calls: 37\n",
      "True omega: 0.003006, prediction by NN: 0.002605, num of resample calls: 28\n",
      "True omega: 1.157001, prediction by NN: 1.123839, num of resample calls: 36\n",
      "True omega: 3.022760, prediction by NN: -2.527673, num of resample calls: 38\n",
      "True omega: -1.278236, prediction by NN: 1.321932, num of resample calls: 34\n",
      "True omega: 2.250367, prediction by NN: 2.064647, num of resample calls: 35\n",
      "True omega: 0.068886, prediction by NN: 0.058878, num of resample calls: 32\n",
      "True omega: 1.348479, prediction by NN: -1.192057, num of resample calls: 34\n",
      "True omega: -2.981514, prediction by NN: 3.066809, num of resample calls: 36\n",
      "True omega: -0.806104, prediction by NN: -0.769186, num of resample calls: 35\n",
      "True omega: 1.791132, prediction by NN: 1.775900, num of resample calls: 36\n",
      "True omega: -2.264049, prediction by NN: -2.201521, num of resample calls: 37\n"
     ]
    }
   ],
   "source": [
    "omega_star_list = []\n",
    "nn_pred_list = []\n",
    "nn_data = []\n",
    "\n",
    "for i in range(n_iters): \n",
    "    \n",
    "    omega_star = np.random.uniform(low=-1, high =1) * np.pi\n",
    "    \n",
    "    omega_star_list.append(omega_star)\n",
    "    smc = phase_est_smc(omega_star, t0, max_iters)\n",
    "    smc.init_particles(num_particles)\n",
    "    resample_counts = 0\n",
    "    \n",
    "    while True:\n",
    "        \n",
    "        particle_pos, particle_wgts = smc.particles(threshold=num_particles/5, num_measurements=1)\n",
    "        bins, edges = smc.get_bins(num_bins, num_samples)\n",
    "        \n",
    "        if smc.break_flag:\n",
    "            break\n",
    "            \n",
    "        nn_pred = net(torch.tensor(bins).float().unsqueeze(0)) ## convert to float tensor, then make dim [1, num_bins]\n",
    "        smc.nn_bins_to_particles(nn_pred.detach().numpy(), edges)\n",
    "        \n",
    "        resample_counts += 1\n",
    "\n",
    "        \n",
    "#         if len(running_est) > 5:\n",
    "#             last_n = running_est[-5:]\n",
    "#             # np.allclose(a,b) returns true if every element in a and b are equal to a tolerance\n",
    "#             # np.full_like makes an array with shake of last_n with every element being last_n[0]\n",
    "#             # if all elements of last_n are equal then they should all equal the first element\n",
    "#             if np.allclose(last_n, np.full_like(last_n, last_n[0])):\n",
    "#                 break\n",
    "    if if_print:            \n",
    "        print(\"True omega: {:f}, prediction by NN: {:f}, num of resample calls: {:d}\".format(omega_star,\n",
    "                                                                                             smc.curr_omega_est,\n",
    "                                                                                             resample_counts))\n",
    "\n",
    "    while len(smc.data) < max_iters:\n",
    "        smc.data.append(smc.data[-1]) # append the last estimate\n",
    "    \n",
    "    nn_data.append(smc.data)\n",
    "    nn_pred_list.append(smc.curr_omega_est)\n",
    "    \n",
    "    if np.abs(smc.curr_omega_est) - np.abs(omega_star) > 1:\n",
    "        print(\"Prediction: {:f}, actual value: {:f}. Threshold exceeded. Breaking out of loop for inspection.\".\n",
    "             format(smc.curr_omega_est, omega_star))"
   ]
  },
  {
   "cell_type": "code",
   "execution_count": 26,
   "metadata": {},
   "outputs": [
    {
     "name": "stdout",
     "output_type": "stream",
     "text": [
      "0.0074059440326226834\n"
     ]
    }
   ],
   "source": [
    "nn_mse = np.mean( np.abs(np.array(omega_star_list)) - np.abs(np.array(nn_pred_list)) ) ** 2\n",
    "print(nn_mse)"
   ]
  },
  {
   "cell_type": "code",
   "execution_count": 27,
   "metadata": {},
   "outputs": [
    {
     "data": {
      "image/png": "[encoded data removed]",
      "text/plain": [
       "<Figure size 432x288 with 1 Axes>"
      ]
     },
     "metadata": {
      "needs_background": "light"
     },
     "output_type": "display_data"
    }
   ],
   "source": [
    "nn_data_squared = ( np.abs(np.array(nn_data)) - np.abs(np.array(omega_star_list)).reshape(-1,1)) ** 2 \n",
    "nn_data_mean = np.mean(nn_data_squared, axis=0)\n",
    "nn_data_median = np.median(nn_data_squared, axis =0)\n",
    "\n",
    "num_data_points = nn_data_squared.shape[1]\n",
    "\n",
    "plt.plot(np.arange(1,num_data_points+1, dtype=int), nn_data_mean, label='Mean')\n",
    "plt.plot(np.arange(1,num_data_points+1, dtype=int), nn_data_median, label='Median')\n",
    "plt.legend()\n",
    "plt.title(\"NN\")\n",
    "plt.yscale('log')\n",
    "plt.xlabel(\"Iters\")\n",
    "plt.ylabel(\"$(\\omega - \\omega*)^2$\")\n",
    "plt.show()"
   ]
  },
  {
   "cell_type": "markdown",
   "metadata": {},
   "source": [
    "## Liu-West resampler"
   ]
  },
  {
   "cell_type": "code",
   "execution_count": 28,
   "metadata": {
    "scrolled": true
   },
   "outputs": [
    {
     "name": "stdout",
     "output_type": "stream",
     "text": [
      "True omega: 2.268743, prediction by NN: -0.175144, num of resample calls: 28\n",
      "True omega: 2.018041, prediction by NN: 2.380683, num of resample calls: 28\n",
      "True omega: -1.688665, prediction by NN: -1.636166, num of resample calls: 28\n",
      "True omega: 1.502404, prediction by NN: -0.080678, num of resample calls: 28\n",
      "True omega: -0.258510, prediction by NN: 0.181723, num of resample calls: 26\n",
      "True omega: -1.671587, prediction by NN: 0.574049, num of resample calls: 28\n",
      "True omega: 2.208963, prediction by NN: -3.673349, num of resample calls: 28\n",
      "Prediction: -3.673349, actual value: 2.208963. Threshold exceeded. Breaking out of loop for inspection.\n",
      "True omega: 0.891617, prediction by NN: -1.442680, num of resample calls: 27\n",
      "True omega: 2.724783, prediction by NN: -0.815409, num of resample calls: 28\n",
      "True omega: -0.064219, prediction by NN: 0.157036, num of resample calls: 25\n",
      "True omega: -1.973232, prediction by NN: -1.758255, num of resample calls: 27\n",
      "True omega: -0.602206, prediction by NN: 1.084122, num of resample calls: 26\n",
      "True omega: 0.767540, prediction by NN: -0.999991, num of resample calls: 28\n",
      "True omega: 1.205888, prediction by NN: -0.183382, num of resample calls: 27\n",
      "True omega: 1.061701, prediction by NN: -1.025378, num of resample calls: 27\n",
      "True omega: 0.296281, prediction by NN: -0.146306, num of resample calls: 27\n",
      "True omega: -0.819766, prediction by NN: -0.525364, num of resample calls: 26\n",
      "True omega: 0.627505, prediction by NN: -0.697510, num of resample calls: 28\n",
      "True omega: -3.086086, prediction by NN: 1.148631, num of resample calls: 29\n",
      "True omega: -1.667557, prediction by NN: 0.278788, num of resample calls: 28\n",
      "True omega: -1.512883, prediction by NN: 0.334816, num of resample calls: 28\n",
      "True omega: 0.316220, prediction by NN: 0.318212, num of resample calls: 26\n",
      "True omega: 0.332237, prediction by NN: -0.094485, num of resample calls: 26\n",
      "True omega: -1.491825, prediction by NN: 1.574377, num of resample calls: 28\n",
      "True omega: 2.205060, prediction by NN: 0.918739, num of resample calls: 28\n",
      "True omega: 1.271916, prediction by NN: 0.510487, num of resample calls: 28\n",
      "True omega: 2.809412, prediction by NN: 1.412883, num of resample calls: 29\n",
      "True omega: 2.079836, prediction by NN: 0.218720, num of resample calls: 28\n",
      "True omega: 1.120670, prediction by NN: -1.336299, num of resample calls: 27\n",
      "True omega: 0.306180, prediction by NN: -0.548463, num of resample calls: 27\n",
      "True omega: 1.865004, prediction by NN: 2.905826, num of resample calls: 27\n",
      "Prediction: 2.905826, actual value: 1.865004. Threshold exceeded. Breaking out of loop for inspection.\n",
      "True omega: 0.917105, prediction by NN: 0.668934, num of resample calls: 27\n",
      "True omega: 0.361752, prediction by NN: -0.004829, num of resample calls: 26\n",
      "True omega: -0.460272, prediction by NN: 0.226728, num of resample calls: 27\n",
      "True omega: 1.523599, prediction by NN: 0.088052, num of resample calls: 27\n",
      "True omega: 1.295509, prediction by NN: -3.091584, num of resample calls: 28\n",
      "Prediction: -3.091584, actual value: 1.295509. Threshold exceeded. Breaking out of loop for inspection.\n",
      "True omega: 0.213889, prediction by NN: -0.163083, num of resample calls: 26\n",
      "True omega: -3.046206, prediction by NN: -2.110023, num of resample calls: 29\n",
      "True omega: -1.668186, prediction by NN: -4.256993, num of resample calls: 28\n",
      "Prediction: -4.256993, actual value: -1.668186. Threshold exceeded. Breaking out of loop for inspection.\n",
      "True omega: -1.384606, prediction by NN: -0.743067, num of resample calls: 27\n",
      "True omega: -1.006876, prediction by NN: -1.927216, num of resample calls: 28\n",
      "True omega: 0.565319, prediction by NN: -0.136412, num of resample calls: 26\n",
      "True omega: -3.007543, prediction by NN: 2.558112, num of resample calls: 28\n",
      "True omega: 2.429856, prediction by NN: -1.897663, num of resample calls: 28\n",
      "True omega: -0.283575, prediction by NN: 0.410028, num of resample calls: 26\n",
      "True omega: -0.651779, prediction by NN: 0.124844, num of resample calls: 27\n",
      "True omega: -0.097711, prediction by NN: -0.089132, num of resample calls: 26\n",
      "True omega: -2.110359, prediction by NN: 2.010280, num of resample calls: 28\n",
      "True omega: 1.084858, prediction by NN: -0.327536, num of resample calls: 28\n",
      "True omega: -2.761583, prediction by NN: 3.139462, num of resample calls: 28\n",
      "True omega: -1.823414, prediction by NN: -0.269496, num of resample calls: 28\n",
      "True omega: -2.678782, prediction by NN: -2.592152, num of resample calls: 28\n",
      "True omega: -1.828945, prediction by NN: -0.841887, num of resample calls: 28\n",
      "True omega: 1.903460, prediction by NN: -0.016618, num of resample calls: 29\n",
      "True omega: -0.460688, prediction by NN: -0.235762, num of resample calls: 26\n",
      "True omega: -0.139735, prediction by NN: 0.249954, num of resample calls: 25\n",
      "True omega: 2.300577, prediction by NN: -2.357789, num of resample calls: 28\n",
      "True omega: 1.218262, prediction by NN: -0.403232, num of resample calls: 28\n",
      "True omega: 0.445096, prediction by NN: -0.181084, num of resample calls: 27\n",
      "True omega: 2.295845, prediction by NN: 0.937438, num of resample calls: 29\n",
      "True omega: -2.679332, prediction by NN: -0.070969, num of resample calls: 28\n",
      "True omega: -2.158253, prediction by NN: -2.910061, num of resample calls: 28\n",
      "True omega: -0.675283, prediction by NN: -0.586346, num of resample calls: 27\n",
      "True omega: -2.476830, prediction by NN: -4.971721, num of resample calls: 28\n",
      "Prediction: -4.971721, actual value: -2.476830. Threshold exceeded. Breaking out of loop for inspection.\n",
      "True omega: 3.078857, prediction by NN: -3.527546, num of resample calls: 28\n",
      "True omega: 0.622478, prediction by NN: -0.226366, num of resample calls: 27\n",
      "True omega: 1.127917, prediction by NN: 0.526313, num of resample calls: 28\n",
      "True omega: 2.201440, prediction by NN: -1.285306, num of resample calls: 28\n",
      "True omega: -0.648157, prediction by NN: 0.189568, num of resample calls: 28\n",
      "True omega: 1.794272, prediction by NN: -2.195283, num of resample calls: 27\n",
      "True omega: 2.588596, prediction by NN: -1.368738, num of resample calls: 28\n",
      "True omega: -2.167690, prediction by NN: -1.291899, num of resample calls: 28\n",
      "True omega: -0.354160, prediction by NN: 0.317195, num of resample calls: 26\n",
      "True omega: 1.459181, prediction by NN: 0.559896, num of resample calls: 28\n",
      "True omega: 1.175666, prediction by NN: -0.364885, num of resample calls: 27\n",
      "True omega: -2.257452, prediction by NN: -6.967520, num of resample calls: 28\n",
      "Prediction: -6.967520, actual value: -2.257452. Threshold exceeded. Breaking out of loop for inspection.\n",
      "True omega: -0.600648, prediction by NN: 0.487569, num of resample calls: 26\n",
      "True omega: 3.119185, prediction by NN: 0.642631, num of resample calls: 29\n",
      "True omega: -1.141217, prediction by NN: -0.019280, num of resample calls: 28\n",
      "True omega: -1.509738, prediction by NN: 0.180791, num of resample calls: 28\n",
      "True omega: -2.572077, prediction by NN: 2.623256, num of resample calls: 28\n",
      "True omega: -2.256758, prediction by NN: -1.785739, num of resample calls: 28\n",
      "True omega: 0.675492, prediction by NN: -1.184480, num of resample calls: 27\n",
      "True omega: 0.340764, prediction by NN: 0.602575, num of resample calls: 27\n",
      "True omega: -2.418573, prediction by NN: 0.361856, num of resample calls: 28\n",
      "True omega: 1.872995, prediction by NN: 1.241075, num of resample calls: 28\n",
      "True omega: -0.483274, prediction by NN: -0.831491, num of resample calls: 26\n",
      "True omega: -2.373772, prediction by NN: 0.561424, num of resample calls: 28\n",
      "True omega: -1.179245, prediction by NN: 0.216187, num of resample calls: 28\n",
      "True omega: 1.334339, prediction by NN: -1.702463, num of resample calls: 27\n",
      "True omega: 0.602899, prediction by NN: 0.739359, num of resample calls: 28\n",
      "True omega: 0.365034, prediction by NN: -0.025643, num of resample calls: 27\n",
      "True omega: 0.133165, prediction by NN: -0.034009, num of resample calls: 26\n",
      "True omega: -0.236873, prediction by NN: -0.099799, num of resample calls: 26\n",
      "True omega: 0.270326, prediction by NN: 0.174144, num of resample calls: 27\n",
      "True omega: 1.042145, prediction by NN: 1.338575, num of resample calls: 27\n",
      "True omega: 1.754590, prediction by NN: -0.926715, num of resample calls: 27\n",
      "True omega: -0.272118, prediction by NN: -0.311487, num of resample calls: 26\n",
      "True omega: -1.886029, prediction by NN: -4.610374, num of resample calls: 28\n",
      "Prediction: -4.610374, actual value: -1.886029. Threshold exceeded. Breaking out of loop for inspection.\n",
      "True omega: -2.775439, prediction by NN: -1.472005, num of resample calls: 28\n"
     ]
    }
   ],
   "source": [
    "omega_star_list = []\n",
    "lw_pred_list = []\n",
    "lw_data = []\n",
    "\n",
    "for i in range(n_iters): \n",
    "    omega_star = np.random.uniform(low=-1, high=1) * np.pi\n",
    "    \n",
    "    omega_star_list.append(omega_star)\n",
    "    smc = phase_est_smc(omega_star, t0, max_iters)\n",
    "    smc.init_particles(num_particles)\n",
    "    \n",
    "    resample_counts = 0\n",
    "    \n",
    "    while True:\n",
    "\n",
    "        particle_pos, particle_wgts = smc.particles(threshold=num_particles/10, num_measurements=1)\n",
    "        smc.liu_west_resample()\n",
    "    \n",
    "        resample_counts += 1 \n",
    "        \n",
    "        curr_omega_est = smc.particle_pos[np.argmax(smc.particle_wgts)]\n",
    "        if smc.break_flag == True:\n",
    "            break\n",
    "        \n",
    "#         if len(running_est) > 5:\n",
    "#             last_5 = running_est[-5:]\n",
    "#             # np.allclose(a,b) returns true if every element in a and b are equal to a tolerance\n",
    "#             # np.full_like makes an array with shape of last_10 with every element being last_10[0]\n",
    "#             # if all elements of last_10 are equal then they should all equal the first element\n",
    "#             if np.allclose(last_5, np.full_like(last_5, last_5[0])):\n",
    "#                 break\n",
    "                \n",
    "      \n",
    "    if if_print:            \n",
    "        print(\"True omega: {:f}, prediction by NN: {:f}, num of resample calls: {:d}\".format(omega_star,\n",
    "                                                                                             smc.curr_omega_est,\n",
    "                                                                                             resample_counts))\n",
    "\n",
    "    while len(smc.data) < max_iters:\n",
    "        smc.data.append(smc.data[-1]) # append the last estimate\n",
    "\n",
    "    lw_data.append(smc.data)\n",
    "    lw_pred_list.append(smc.curr_omega_est)\n",
    "    \n",
    "    if np.abs(smc.curr_omega_est) - np.abs(omega_star) > 1:\n",
    "        print(\"Prediction: {:f}, actual value: {:f}. Threshold exceeded. Breaking out of loop for inspection.\".\n",
    "             format(smc.curr_omega_est, omega_star))\n",
    "\n",
    "    "
   ]
  },
  {
   "cell_type": "code",
   "execution_count": 29,
   "metadata": {},
   "outputs": [
    {
     "name": "stdout",
     "output_type": "stream",
     "text": [
      "0.0938460729045162\n"
     ]
    }
   ],
   "source": [
    "lw_mse = np.mean( np.abs(np.array(omega_star_list)) - np.abs(np.array(lw_pred_list))) ** 2\n",
    "print(lw_mse)"
   ]
  },
  {
   "cell_type": "code",
   "execution_count": 30,
   "metadata": {},
   "outputs": [
    {
     "data": {
      "image/png": "[encoded data removed]",
      "text/plain": [
       "<Figure size 432x288 with 1 Axes>"
      ]
     },
     "metadata": {
      "needs_background": "light"
     },
     "output_type": "display_data"
    }
   ],
   "source": [
    "lw_data_squared = ( np.abs(np.array(lw_data)) - np.abs(np.array(omega_star_list)).reshape(-1,1)) ** 2 \n",
    "lw_data_mean = np.mean(lw_data_squared, axis=0)\n",
    "lw_data_median = np.median(lw_data_squared, axis =0)\n",
    "\n",
    "num_data_points = lw_data_squared.shape[1]\n",
    "\n",
    "plt.plot(np.arange(1,num_data_points+1, dtype=int), lw_data_mean, label='Mean')\n",
    "plt.plot(np.arange(1,num_data_points+1, dtype=int), lw_data_median, label='Median')\n",
    "plt.legend()\n",
    "plt.title(\"LW\")\n",
    "plt.xlabel(\"Iters\")\n",
    "plt.ylabel(\"$(\\omega - \\omega*)^2$\")\n",
    "plt.yscale('log')\n",
    "plt.show()"
   ]
  },
  {
   "cell_type": "code",
   "execution_count": null,
   "metadata": {},
   "outputs": [],
   "source": []
  }
 ],
 "metadata": {
  "kernelspec": {
   "display_name": "Python 3",
   "language": "python",
   "name": "python3"
  },
  "language_info": {
   "codemirror_mode": {
    "name": "ipython",
    "version": 3
   },
   "file_extension": ".py",
   "mimetype": "text/x-python",
   "name": "python",
   "nbconvert_exporter": "python",
   "pygments_lexer": "ipython3",
   "version": "3.8.3"
  }
 },
 "nbformat": 4,
 "nbformat_minor": 4
}
